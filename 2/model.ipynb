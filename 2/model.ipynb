{
 "cells": [
  {
   "cell_type": "code",
   "execution_count": 8,
   "metadata": {},
   "outputs": [
    {
     "name": "stdout",
     "output_type": "stream",
     "text": [
      "The rich extension is already loaded. To reload it, use:\n",
      "  %reload_ext rich\n"
     ]
    }
   ],
   "source": [
    "%load_ext rich\n",
    "import torch"
   ]
  },
  {
   "cell_type": "code",
   "execution_count": 2,
   "metadata": {},
   "outputs": [],
   "source": [
    "from transformers import BertConfig, BertModel"
   ]
  },
  {
   "cell_type": "code",
   "execution_count": 3,
   "metadata": {},
   "outputs": [
    {
     "data": {
      "text/html": [
       "<pre style=\"white-space:pre;overflow-x:auto;line-height:normal;font-family:Menlo,'DejaVu Sans Mono',consolas,'Courier New',monospace\"></pre>\n"
      ],
      "text/plain": []
     },
     "metadata": {},
     "output_type": "display_data"
    },
    {
     "data": {
      "text/plain": [
       "\n",
       "BertConfig \u001b[1m{\u001b[0m\n",
       "  \u001b[32m\"attention_probs_dropout_prob\"\u001b[0m: \u001b[1;36m0.1\u001b[0m,\n",
       "  \u001b[32m\"classifier_dropout\"\u001b[0m: null,\n",
       "  \u001b[32m\"hidden_act\"\u001b[0m: \u001b[32m\"gelu\"\u001b[0m,\n",
       "  \u001b[32m\"hidden_dropout_prob\"\u001b[0m: \u001b[1;36m0.1\u001b[0m,\n",
       "  \u001b[32m\"hidden_size\"\u001b[0m: \u001b[1;36m768\u001b[0m,\n",
       "  \u001b[32m\"initializer_range\"\u001b[0m: \u001b[1;36m0.02\u001b[0m,\n",
       "  \u001b[32m\"intermediate_size\"\u001b[0m: \u001b[1;36m3072\u001b[0m,\n",
       "  \u001b[32m\"layer_norm_eps\"\u001b[0m: \u001b[1;36m1e-12\u001b[0m,\n",
       "  \u001b[32m\"max_position_embeddings\"\u001b[0m: \u001b[1;36m512\u001b[0m,\n",
       "  \u001b[32m\"model_type\"\u001b[0m: \u001b[32m\"bert\"\u001b[0m,\n",
       "  \u001b[32m\"num_attention_heads\"\u001b[0m: \u001b[1;36m12\u001b[0m,\n",
       "  \u001b[32m\"num_hidden_layers\"\u001b[0m: \u001b[1;36m12\u001b[0m,\n",
       "  \u001b[32m\"pad_token_id\"\u001b[0m: \u001b[1;36m0\u001b[0m,\n",
       "  \u001b[32m\"position_embedding_type\"\u001b[0m: \u001b[32m\"absolute\"\u001b[0m,\n",
       "  \u001b[32m\"transformers_version\"\u001b[0m: \u001b[32m\"4.36.2\"\u001b[0m,\n",
       "  \u001b[32m\"type_vocab_size\"\u001b[0m: \u001b[1;36m2\u001b[0m,\n",
       "  \u001b[32m\"use_cache\"\u001b[0m: true,\n",
       "  \u001b[32m\"vocab_size\"\u001b[0m: \u001b[1;36m30522\u001b[0m\n",
       "\u001b[1m}\u001b[0m"
      ]
     },
     "execution_count": 3,
     "metadata": {},
     "output_type": "execute_result"
    }
   ],
   "source": [
    "config = BertConfig()\n",
    "config"
   ]
  },
  {
   "cell_type": "code",
   "execution_count": 14,
   "metadata": {},
   "outputs": [
    {
     "data": {
      "text/html": [
       "<pre style=\"white-space:pre;overflow-x:auto;line-height:normal;font-family:Menlo,'DejaVu Sans Mono',consolas,'Courier New',monospace\"></pre>\n"
      ],
      "text/plain": []
     },
     "metadata": {},
     "output_type": "display_data"
    },
    {
     "data": {
      "text/plain": [
       "\n",
       "\u001b[1;35mBertModel\u001b[0m\u001b[1m(\u001b[0m\n",
       "  \u001b[1m(\u001b[0membeddings\u001b[1m)\u001b[0m: \u001b[1;35mBertEmbeddings\u001b[0m\u001b[1m(\u001b[0m\n",
       "    \u001b[1m(\u001b[0mword_embeddings\u001b[1m)\u001b[0m: \u001b[1;35mEmbedding\u001b[0m\u001b[1m(\u001b[0m\u001b[1;36m30522\u001b[0m, \u001b[1;36m768\u001b[0m, \u001b[33mpadding_idx\u001b[0m=\u001b[1;36m0\u001b[0m\u001b[1m)\u001b[0m\n",
       "    \u001b[1m(\u001b[0mposition_embeddings\u001b[1m)\u001b[0m: \u001b[1;35mEmbedding\u001b[0m\u001b[1m(\u001b[0m\u001b[1;36m512\u001b[0m, \u001b[1;36m768\u001b[0m\u001b[1m)\u001b[0m\n",
       "    \u001b[1m(\u001b[0mtoken_type_embeddings\u001b[1m)\u001b[0m: \u001b[1;35mEmbedding\u001b[0m\u001b[1m(\u001b[0m\u001b[1;36m2\u001b[0m, \u001b[1;36m768\u001b[0m\u001b[1m)\u001b[0m\n",
       "    \u001b[1m(\u001b[0mLayerNorm\u001b[1m)\u001b[0m: \u001b[1;35mLayerNorm\u001b[0m\u001b[1m(\u001b[0m\u001b[1m(\u001b[0m\u001b[1;36m768\u001b[0m,\u001b[1m)\u001b[0m, \u001b[33meps\u001b[0m=\u001b[1;36m1e\u001b[0m\u001b[1;36m-12\u001b[0m, \u001b[33melementwise_affine\u001b[0m=\u001b[3;92mTrue\u001b[0m\u001b[1m)\u001b[0m\n",
       "    \u001b[1m(\u001b[0mdropout\u001b[1m)\u001b[0m: \u001b[1;35mDropout\u001b[0m\u001b[1m(\u001b[0m\u001b[33mp\u001b[0m=\u001b[1;36m0\u001b[0m\u001b[1;36m.1\u001b[0m, \u001b[33minplace\u001b[0m=\u001b[3;91mFalse\u001b[0m\u001b[1m)\u001b[0m\n",
       "  \u001b[1m)\u001b[0m\n",
       "  \u001b[1m(\u001b[0mencoder\u001b[1m)\u001b[0m: \u001b[1;35mBertEncoder\u001b[0m\u001b[1m(\u001b[0m\n",
       "    \u001b[1m(\u001b[0mlayer\u001b[1m)\u001b[0m: \u001b[1;35mModuleList\u001b[0m\u001b[1m(\u001b[0m\n",
       "      \u001b[1m(\u001b[0m\u001b[1;36m0\u001b[0m-\u001b[1;36m11\u001b[0m\u001b[1m)\u001b[0m: \u001b[1;36m12\u001b[0m x \u001b[1;35mBertLayer\u001b[0m\u001b[1m(\u001b[0m\n",
       "        \u001b[1m(\u001b[0mattention\u001b[1m)\u001b[0m: \u001b[1;35mBertAttention\u001b[0m\u001b[1m(\u001b[0m\n",
       "          \u001b[1m(\u001b[0mself\u001b[1m)\u001b[0m: \u001b[1;35mBertSelfAttention\u001b[0m\u001b[1m(\u001b[0m\n",
       "            \u001b[1m(\u001b[0mquery\u001b[1m)\u001b[0m: \u001b[1;35mLinear\u001b[0m\u001b[1m(\u001b[0m\u001b[33min_features\u001b[0m=\u001b[1;36m768\u001b[0m, \u001b[33mout_features\u001b[0m=\u001b[1;36m768\u001b[0m, \u001b[33mbias\u001b[0m=\u001b[3;92mTrue\u001b[0m\u001b[1m)\u001b[0m\n",
       "            \u001b[1m(\u001b[0mkey\u001b[1m)\u001b[0m: \u001b[1;35mLinear\u001b[0m\u001b[1m(\u001b[0m\u001b[33min_features\u001b[0m=\u001b[1;36m768\u001b[0m, \u001b[33mout_features\u001b[0m=\u001b[1;36m768\u001b[0m, \u001b[33mbias\u001b[0m=\u001b[3;92mTrue\u001b[0m\u001b[1m)\u001b[0m\n",
       "            \u001b[1m(\u001b[0mvalue\u001b[1m)\u001b[0m: \u001b[1;35mLinear\u001b[0m\u001b[1m(\u001b[0m\u001b[33min_features\u001b[0m=\u001b[1;36m768\u001b[0m, \u001b[33mout_features\u001b[0m=\u001b[1;36m768\u001b[0m, \u001b[33mbias\u001b[0m=\u001b[3;92mTrue\u001b[0m\u001b[1m)\u001b[0m\n",
       "            \u001b[1m(\u001b[0mdropout\u001b[1m)\u001b[0m: \u001b[1;35mDropout\u001b[0m\u001b[1m(\u001b[0m\u001b[33mp\u001b[0m=\u001b[1;36m0\u001b[0m\u001b[1;36m.1\u001b[0m, \u001b[33minplace\u001b[0m=\u001b[3;91mFalse\u001b[0m\u001b[1m)\u001b[0m\n",
       "          \u001b[1m)\u001b[0m\n",
       "          \u001b[1m(\u001b[0moutput\u001b[1m)\u001b[0m: \u001b[1;35mBertSelfOutput\u001b[0m\u001b[1m(\u001b[0m\n",
       "            \u001b[1m(\u001b[0mdense\u001b[1m)\u001b[0m: \u001b[1;35mLinear\u001b[0m\u001b[1m(\u001b[0m\u001b[33min_features\u001b[0m=\u001b[1;36m768\u001b[0m, \u001b[33mout_features\u001b[0m=\u001b[1;36m768\u001b[0m, \u001b[33mbias\u001b[0m=\u001b[3;92mTrue\u001b[0m\u001b[1m)\u001b[0m\n",
       "            \u001b[1m(\u001b[0mLayerNorm\u001b[1m)\u001b[0m: \u001b[1;35mLayerNorm\u001b[0m\u001b[1m(\u001b[0m\u001b[1m(\u001b[0m\u001b[1;36m768\u001b[0m,\u001b[1m)\u001b[0m, \u001b[33meps\u001b[0m=\u001b[1;36m1e\u001b[0m\u001b[1;36m-12\u001b[0m, \u001b[33melementwise_affine\u001b[0m=\u001b[3;92mTrue\u001b[0m\u001b[1m)\u001b[0m\n",
       "            \u001b[1m(\u001b[0mdropout\u001b[1m)\u001b[0m: \u001b[1;35mDropout\u001b[0m\u001b[1m(\u001b[0m\u001b[33mp\u001b[0m=\u001b[1;36m0\u001b[0m\u001b[1;36m.1\u001b[0m, \u001b[33minplace\u001b[0m=\u001b[3;91mFalse\u001b[0m\u001b[1m)\u001b[0m\n",
       "          \u001b[1m)\u001b[0m\n",
       "        \u001b[1m)\u001b[0m\n",
       "        \u001b[1m(\u001b[0mintermediate\u001b[1m)\u001b[0m: \u001b[1;35mBertIntermediate\u001b[0m\u001b[1m(\u001b[0m\n",
       "          \u001b[1m(\u001b[0mdense\u001b[1m)\u001b[0m: \u001b[1;35mLinear\u001b[0m\u001b[1m(\u001b[0m\u001b[33min_features\u001b[0m=\u001b[1;36m768\u001b[0m, \u001b[33mout_features\u001b[0m=\u001b[1;36m3072\u001b[0m, \u001b[33mbias\u001b[0m=\u001b[3;92mTrue\u001b[0m\u001b[1m)\u001b[0m\n",
       "          \u001b[1m(\u001b[0mintermediate_act_fn\u001b[1m)\u001b[0m: \u001b[1;35mGELUActivation\u001b[0m\u001b[1m(\u001b[0m\u001b[1m)\u001b[0m\n",
       "        \u001b[1m)\u001b[0m\n",
       "        \u001b[1m(\u001b[0moutput\u001b[1m)\u001b[0m: \u001b[1;35mBertOutput\u001b[0m\u001b[1m(\u001b[0m\n",
       "          \u001b[1m(\u001b[0mdense\u001b[1m)\u001b[0m: \u001b[1;35mLinear\u001b[0m\u001b[1m(\u001b[0m\u001b[33min_features\u001b[0m=\u001b[1;36m3072\u001b[0m, \u001b[33mout_features\u001b[0m=\u001b[1;36m768\u001b[0m, \u001b[33mbias\u001b[0m=\u001b[3;92mTrue\u001b[0m\u001b[1m)\u001b[0m\n",
       "          \u001b[1m(\u001b[0mLayerNorm\u001b[1m)\u001b[0m: \u001b[1;35mLayerNorm\u001b[0m\u001b[1m(\u001b[0m\u001b[1m(\u001b[0m\u001b[1;36m768\u001b[0m,\u001b[1m)\u001b[0m, \u001b[33meps\u001b[0m=\u001b[1;36m1e\u001b[0m\u001b[1;36m-12\u001b[0m, \u001b[33melementwise_affine\u001b[0m=\u001b[3;92mTrue\u001b[0m\u001b[1m)\u001b[0m\n",
       "          \u001b[1m(\u001b[0mdropout\u001b[1m)\u001b[0m: \u001b[1;35mDropout\u001b[0m\u001b[1m(\u001b[0m\u001b[33mp\u001b[0m=\u001b[1;36m0\u001b[0m\u001b[1;36m.1\u001b[0m, \u001b[33minplace\u001b[0m=\u001b[3;91mFalse\u001b[0m\u001b[1m)\u001b[0m\n",
       "        \u001b[1m)\u001b[0m\n",
       "      \u001b[1m)\u001b[0m\n",
       "    \u001b[1m)\u001b[0m\n",
       "  \u001b[1m)\u001b[0m\n",
       "  \u001b[1m(\u001b[0mpooler\u001b[1m)\u001b[0m: \u001b[1;35mBertPooler\u001b[0m\u001b[1m(\u001b[0m\n",
       "    \u001b[1m(\u001b[0mdense\u001b[1m)\u001b[0m: \u001b[1;35mLinear\u001b[0m\u001b[1m(\u001b[0m\u001b[33min_features\u001b[0m=\u001b[1;36m768\u001b[0m, \u001b[33mout_features\u001b[0m=\u001b[1;36m768\u001b[0m, \u001b[33mbias\u001b[0m=\u001b[3;92mTrue\u001b[0m\u001b[1m)\u001b[0m\n",
       "    \u001b[1m(\u001b[0mactivation\u001b[1m)\u001b[0m: \u001b[1;35mTanh\u001b[0m\u001b[1m(\u001b[0m\u001b[1m)\u001b[0m\n",
       "  \u001b[1m)\u001b[0m\n",
       "\u001b[1m)\u001b[0m"
      ]
     },
     "execution_count": 14,
     "metadata": {},
     "output_type": "execute_result"
    }
   ],
   "source": [
    "model = BertModel(config)\n",
    "model"
   ]
  },
  {
   "cell_type": "markdown",
   "metadata": {},
   "source": [
    "The above loads the BERT (Bi-directional Encoder Representations from Transformers) model with random weights. In other words, the above simply loads the architecture of the specified model and needs pre-training to be able to be used for inference."
   ]
  },
  {
   "cell_type": "code",
   "execution_count": 11,
   "metadata": {},
   "outputs": [
    {
     "data": {
      "text/html": [
       "<pre style=\"white-space:pre;overflow-x:auto;line-height:normal;font-family:Menlo,'DejaVu Sans Mono',consolas,'Courier New',monospace\"></pre>\n"
      ],
      "text/plain": []
     },
     "metadata": {},
     "output_type": "display_data"
    },
    {
     "data": {
      "text/plain": [
       "\n",
       "\u001b[1;35mBertModel\u001b[0m\u001b[1m(\u001b[0m\n",
       "  \u001b[1m(\u001b[0membeddings\u001b[1m)\u001b[0m: \u001b[1;35mBertEmbeddings\u001b[0m\u001b[1m(\u001b[0m\n",
       "    \u001b[1m(\u001b[0mword_embeddings\u001b[1m)\u001b[0m: \u001b[1;35mEmbedding\u001b[0m\u001b[1m(\u001b[0m\u001b[1;36m30522\u001b[0m, \u001b[1;36m768\u001b[0m, \u001b[33mpadding_idx\u001b[0m=\u001b[1;36m0\u001b[0m\u001b[1m)\u001b[0m\n",
       "    \u001b[1m(\u001b[0mposition_embeddings\u001b[1m)\u001b[0m: \u001b[1;35mEmbedding\u001b[0m\u001b[1m(\u001b[0m\u001b[1;36m512\u001b[0m, \u001b[1;36m768\u001b[0m\u001b[1m)\u001b[0m\n",
       "    \u001b[1m(\u001b[0mtoken_type_embeddings\u001b[1m)\u001b[0m: \u001b[1;35mEmbedding\u001b[0m\u001b[1m(\u001b[0m\u001b[1;36m2\u001b[0m, \u001b[1;36m768\u001b[0m\u001b[1m)\u001b[0m\n",
       "    \u001b[1m(\u001b[0mLayerNorm\u001b[1m)\u001b[0m: \u001b[1;35mLayerNorm\u001b[0m\u001b[1m(\u001b[0m\u001b[1m(\u001b[0m\u001b[1;36m768\u001b[0m,\u001b[1m)\u001b[0m, \u001b[33meps\u001b[0m=\u001b[1;36m1e\u001b[0m\u001b[1;36m-12\u001b[0m, \u001b[33melementwise_affine\u001b[0m=\u001b[3;92mTrue\u001b[0m\u001b[1m)\u001b[0m\n",
       "    \u001b[1m(\u001b[0mdropout\u001b[1m)\u001b[0m: \u001b[1;35mDropout\u001b[0m\u001b[1m(\u001b[0m\u001b[33mp\u001b[0m=\u001b[1;36m0\u001b[0m\u001b[1;36m.1\u001b[0m, \u001b[33minplace\u001b[0m=\u001b[3;91mFalse\u001b[0m\u001b[1m)\u001b[0m\n",
       "  \u001b[1m)\u001b[0m\n",
       "  \u001b[1m(\u001b[0mencoder\u001b[1m)\u001b[0m: \u001b[1;35mBertEncoder\u001b[0m\u001b[1m(\u001b[0m\n",
       "    \u001b[1m(\u001b[0mlayer\u001b[1m)\u001b[0m: \u001b[1;35mModuleList\u001b[0m\u001b[1m(\u001b[0m\n",
       "      \u001b[1m(\u001b[0m\u001b[1;36m0\u001b[0m-\u001b[1;36m11\u001b[0m\u001b[1m)\u001b[0m: \u001b[1;36m12\u001b[0m x \u001b[1;35mBertLayer\u001b[0m\u001b[1m(\u001b[0m\n",
       "        \u001b[1m(\u001b[0mattention\u001b[1m)\u001b[0m: \u001b[1;35mBertAttention\u001b[0m\u001b[1m(\u001b[0m\n",
       "          \u001b[1m(\u001b[0mself\u001b[1m)\u001b[0m: \u001b[1;35mBertSelfAttention\u001b[0m\u001b[1m(\u001b[0m\n",
       "            \u001b[1m(\u001b[0mquery\u001b[1m)\u001b[0m: \u001b[1;35mLinear\u001b[0m\u001b[1m(\u001b[0m\u001b[33min_features\u001b[0m=\u001b[1;36m768\u001b[0m, \u001b[33mout_features\u001b[0m=\u001b[1;36m768\u001b[0m, \u001b[33mbias\u001b[0m=\u001b[3;92mTrue\u001b[0m\u001b[1m)\u001b[0m\n",
       "            \u001b[1m(\u001b[0mkey\u001b[1m)\u001b[0m: \u001b[1;35mLinear\u001b[0m\u001b[1m(\u001b[0m\u001b[33min_features\u001b[0m=\u001b[1;36m768\u001b[0m, \u001b[33mout_features\u001b[0m=\u001b[1;36m768\u001b[0m, \u001b[33mbias\u001b[0m=\u001b[3;92mTrue\u001b[0m\u001b[1m)\u001b[0m\n",
       "            \u001b[1m(\u001b[0mvalue\u001b[1m)\u001b[0m: \u001b[1;35mLinear\u001b[0m\u001b[1m(\u001b[0m\u001b[33min_features\u001b[0m=\u001b[1;36m768\u001b[0m, \u001b[33mout_features\u001b[0m=\u001b[1;36m768\u001b[0m, \u001b[33mbias\u001b[0m=\u001b[3;92mTrue\u001b[0m\u001b[1m)\u001b[0m\n",
       "            \u001b[1m(\u001b[0mdropout\u001b[1m)\u001b[0m: \u001b[1;35mDropout\u001b[0m\u001b[1m(\u001b[0m\u001b[33mp\u001b[0m=\u001b[1;36m0\u001b[0m\u001b[1;36m.1\u001b[0m, \u001b[33minplace\u001b[0m=\u001b[3;91mFalse\u001b[0m\u001b[1m)\u001b[0m\n",
       "          \u001b[1m)\u001b[0m\n",
       "          \u001b[1m(\u001b[0moutput\u001b[1m)\u001b[0m: \u001b[1;35mBertSelfOutput\u001b[0m\u001b[1m(\u001b[0m\n",
       "            \u001b[1m(\u001b[0mdense\u001b[1m)\u001b[0m: \u001b[1;35mLinear\u001b[0m\u001b[1m(\u001b[0m\u001b[33min_features\u001b[0m=\u001b[1;36m768\u001b[0m, \u001b[33mout_features\u001b[0m=\u001b[1;36m768\u001b[0m, \u001b[33mbias\u001b[0m=\u001b[3;92mTrue\u001b[0m\u001b[1m)\u001b[0m\n",
       "            \u001b[1m(\u001b[0mLayerNorm\u001b[1m)\u001b[0m: \u001b[1;35mLayerNorm\u001b[0m\u001b[1m(\u001b[0m\u001b[1m(\u001b[0m\u001b[1;36m768\u001b[0m,\u001b[1m)\u001b[0m, \u001b[33meps\u001b[0m=\u001b[1;36m1e\u001b[0m\u001b[1;36m-12\u001b[0m, \u001b[33melementwise_affine\u001b[0m=\u001b[3;92mTrue\u001b[0m\u001b[1m)\u001b[0m\n",
       "            \u001b[1m(\u001b[0mdropout\u001b[1m)\u001b[0m: \u001b[1;35mDropout\u001b[0m\u001b[1m(\u001b[0m\u001b[33mp\u001b[0m=\u001b[1;36m0\u001b[0m\u001b[1;36m.1\u001b[0m, \u001b[33minplace\u001b[0m=\u001b[3;91mFalse\u001b[0m\u001b[1m)\u001b[0m\n",
       "          \u001b[1m)\u001b[0m\n",
       "        \u001b[1m)\u001b[0m\n",
       "        \u001b[1m(\u001b[0mintermediate\u001b[1m)\u001b[0m: \u001b[1;35mBertIntermediate\u001b[0m\u001b[1m(\u001b[0m\n",
       "          \u001b[1m(\u001b[0mdense\u001b[1m)\u001b[0m: \u001b[1;35mLinear\u001b[0m\u001b[1m(\u001b[0m\u001b[33min_features\u001b[0m=\u001b[1;36m768\u001b[0m, \u001b[33mout_features\u001b[0m=\u001b[1;36m3072\u001b[0m, \u001b[33mbias\u001b[0m=\u001b[3;92mTrue\u001b[0m\u001b[1m)\u001b[0m\n",
       "          \u001b[1m(\u001b[0mintermediate_act_fn\u001b[1m)\u001b[0m: \u001b[1;35mGELUActivation\u001b[0m\u001b[1m(\u001b[0m\u001b[1m)\u001b[0m\n",
       "        \u001b[1m)\u001b[0m\n",
       "        \u001b[1m(\u001b[0moutput\u001b[1m)\u001b[0m: \u001b[1;35mBertOutput\u001b[0m\u001b[1m(\u001b[0m\n",
       "          \u001b[1m(\u001b[0mdense\u001b[1m)\u001b[0m: \u001b[1;35mLinear\u001b[0m\u001b[1m(\u001b[0m\u001b[33min_features\u001b[0m=\u001b[1;36m3072\u001b[0m, \u001b[33mout_features\u001b[0m=\u001b[1;36m768\u001b[0m, \u001b[33mbias\u001b[0m=\u001b[3;92mTrue\u001b[0m\u001b[1m)\u001b[0m\n",
       "          \u001b[1m(\u001b[0mLayerNorm\u001b[1m)\u001b[0m: \u001b[1;35mLayerNorm\u001b[0m\u001b[1m(\u001b[0m\u001b[1m(\u001b[0m\u001b[1;36m768\u001b[0m,\u001b[1m)\u001b[0m, \u001b[33meps\u001b[0m=\u001b[1;36m1e\u001b[0m\u001b[1;36m-12\u001b[0m, \u001b[33melementwise_affine\u001b[0m=\u001b[3;92mTrue\u001b[0m\u001b[1m)\u001b[0m\n",
       "          \u001b[1m(\u001b[0mdropout\u001b[1m)\u001b[0m: \u001b[1;35mDropout\u001b[0m\u001b[1m(\u001b[0m\u001b[33mp\u001b[0m=\u001b[1;36m0\u001b[0m\u001b[1;36m.1\u001b[0m, \u001b[33minplace\u001b[0m=\u001b[3;91mFalse\u001b[0m\u001b[1m)\u001b[0m\n",
       "        \u001b[1m)\u001b[0m\n",
       "      \u001b[1m)\u001b[0m\n",
       "    \u001b[1m)\u001b[0m\n",
       "  \u001b[1m)\u001b[0m\n",
       "  \u001b[1m(\u001b[0mpooler\u001b[1m)\u001b[0m: \u001b[1;35mBertPooler\u001b[0m\u001b[1m(\u001b[0m\n",
       "    \u001b[1m(\u001b[0mdense\u001b[1m)\u001b[0m: \u001b[1;35mLinear\u001b[0m\u001b[1m(\u001b[0m\u001b[33min_features\u001b[0m=\u001b[1;36m768\u001b[0m, \u001b[33mout_features\u001b[0m=\u001b[1;36m768\u001b[0m, \u001b[33mbias\u001b[0m=\u001b[3;92mTrue\u001b[0m\u001b[1m)\u001b[0m\n",
       "    \u001b[1m(\u001b[0mactivation\u001b[1m)\u001b[0m: \u001b[1;35mTanh\u001b[0m\u001b[1m(\u001b[0m\u001b[1m)\u001b[0m\n",
       "  \u001b[1m)\u001b[0m\n",
       "\u001b[1m)\u001b[0m"
      ]
     },
     "execution_count": 11,
     "metadata": {},
     "output_type": "execute_result"
    }
   ],
   "source": [
    "bert_model = BertModel.from_pretrained('bert-base-uncased')\n",
    "bert_model"
   ]
  },
  {
   "cell_type": "code",
   "execution_count": 13,
   "metadata": {},
   "outputs": [
    {
     "data": {
      "text/html": [
       "<pre style=\"white-space:pre;overflow-x:auto;line-height:normal;font-family:Menlo,'DejaVu Sans Mono',consolas,'Courier New',monospace\"></pre>\n"
      ],
      "text/plain": []
     },
     "metadata": {},
     "output_type": "display_data"
    },
    {
     "data": {
      "text/plain": [
       "\n",
       "\u001b[1;35mBaseModelOutputWithPoolingAndCrossAttentions\u001b[0m\u001b[1m(\u001b[0m\n",
       "    \u001b[33mlast_hidden_state\u001b[0m=\u001b[1;35mtensor\u001b[0m\u001b[1m(\u001b[0m\u001b[1m[\u001b[0m\u001b[1m[\u001b[0m\u001b[1m[\u001b[0m\u001b[1;36m-0.3451\u001b[0m, \u001b[1;36m-0.5226\u001b[0m, \u001b[1;36m-0.5995\u001b[0m,  \u001b[33m...\u001b[0m,  \u001b[1;36m0.0492\u001b[0m,  \u001b[1;36m0.5528\u001b[0m,  \u001b[1;36m0.6645\u001b[0m\u001b[1m]\u001b[0m,\n",
       "         \u001b[1m[\u001b[0m\u001b[1;36m-0.1247\u001b[0m, \u001b[1;36m-0.5721\u001b[0m, \u001b[1;36m-0.3380\u001b[0m,  \u001b[33m...\u001b[0m, \u001b[1;36m-0.0545\u001b[0m,  \u001b[1;36m0.8128\u001b[0m,  \u001b[1;36m0.7384\u001b[0m\u001b[1m]\u001b[0m,\n",
       "         \u001b[1m[\u001b[0m\u001b[1;36m-0.1412\u001b[0m, \u001b[1;36m-0.4298\u001b[0m, \u001b[1;36m-0.3626\u001b[0m,  \u001b[33m...\u001b[0m, \u001b[1;36m-0.0753\u001b[0m,  \u001b[1;36m0.6959\u001b[0m,  \u001b[1;36m0.5139\u001b[0m\u001b[1m]\u001b[0m\u001b[1m]\u001b[0m\u001b[1m]\u001b[0m,\n",
       "       \u001b[33mgrad_fn\u001b[0m=\u001b[1m<\u001b[0m\u001b[1;95mNativeLayerNormBackward0\u001b[0m\u001b[39m>\u001b[0m\u001b[1;39m)\u001b[0m\u001b[39m,\u001b[0m\n",
       "\u001b[39m    \u001b[0m\u001b[33mpooler_output\u001b[0m\u001b[39m=\u001b[0m\u001b[1;35mtensor\u001b[0m\u001b[1;39m(\u001b[0m\u001b[1;39m[\u001b[0m\u001b[1;39m[\u001b[0m\u001b[1;36m-0.2160\u001b[0m\u001b[39m,  \u001b[0m\u001b[1;36m0.0609\u001b[0m\u001b[39m,  \u001b[0m\u001b[1;36m0.3719\u001b[0m\u001b[39m,  \u001b[0m\u001b[1;36m0.3453\u001b[0m\u001b[39m,  \u001b[0m\u001b[1;36m0.1763\u001b[0m\u001b[39m,  \u001b[0m\u001b[1;36m0.1115\u001b[0m\u001b[39m,  \u001b[0m\u001b[1;36m0.4045\u001b[0m\u001b[39m, \u001b[0m\u001b[1;36m-0.1507\u001b[0m\u001b[39m,\u001b[0m\n",
       "\u001b[39m          \u001b[0m\u001b[1;36m0.4045\u001b[0m\u001b[39m, \u001b[0m\u001b[1;36m-0.0118\u001b[0m\u001b[39m, \u001b[0m\u001b[1;36m-0.2681\u001b[0m\u001b[39m,  \u001b[0m\u001b[1;36m0.4563\u001b[0m\u001b[39m,  \u001b[0m\u001b[1;36m0.8052\u001b[0m\u001b[39m, \u001b[0m\u001b[1;36m-0.7092\u001b[0m\u001b[39m,  \u001b[0m\u001b[1;36m0.8467\u001b[0m\u001b[39m, \u001b[0m\u001b[1;36m-0.0530\u001b[0m\u001b[39m,\u001b[0m\n",
       "\u001b[39m         \u001b[0m\u001b[1;36m-0.1403\u001b[0m\u001b[39m, \u001b[0m\u001b[1;36m-0.0014\u001b[0m\u001b[39m,  \u001b[0m\u001b[1;36m0.0085\u001b[0m\u001b[39m,  \u001b[0m\u001b[1;36m0.1915\u001b[0m\u001b[39m,  \u001b[0m\u001b[1;36m0.6985\u001b[0m\u001b[39m,  \u001b[0m\u001b[1;36m0.8719\u001b[0m\u001b[39m,  \u001b[0m\u001b[1;36m0.1921\u001b[0m\u001b[39m,  \u001b[0m\u001b[1;36m0.3313\u001b[0m\u001b[39m,\u001b[0m\n",
       "\u001b[39m         \u001b[0m\u001b[1;36m-0.0460\u001b[0m\u001b[39m,  \u001b[0m\u001b[1;36m0.4623\u001b[0m\u001b[39m, \u001b[0m\u001b[1;36m-0.2077\u001b[0m\u001b[39m,  \u001b[0m\u001b[1;36m0.7699\u001b[0m\u001b[39m,  \u001b[0m\u001b[1;36m0.6939\u001b[0m\u001b[39m,  \u001b[0m\u001b[1;36m0.4043\u001b[0m\u001b[39m,  \u001b[0m\u001b[1;36m0.1005\u001b[0m\u001b[39m, \u001b[0m\u001b[1;36m-0.1060\u001b[0m\u001b[39m,\u001b[0m\n",
       "\u001b[39m         \u001b[0m\u001b[1;36m-0.9437\u001b[0m\u001b[39m,  \u001b[0m\u001b[1;36m0.1262\u001b[0m\u001b[39m, \u001b[0m\u001b[1;36m-0.2141\u001b[0m\u001b[39m, \u001b[0m\u001b[1;36m-0.5589\u001b[0m\u001b[39m, \u001b[0m\u001b[1;36m-0.2929\u001b[0m\u001b[39m, \u001b[0m\u001b[1;36m-0.0132\u001b[0m\u001b[39m,  \u001b[0m\u001b[1;36m0.0311\u001b[0m\u001b[39m,  \u001b[0m\u001b[1;36m0.2613\u001b[0m\u001b[39m,\u001b[0m\n",
       "\u001b[39m         \u001b[0m\u001b[1;36m-0.7281\u001b[0m\u001b[39m, \u001b[0m\u001b[1;36m-0.0156\u001b[0m\u001b[39m,  \u001b[0m\u001b[1;36m0.4772\u001b[0m\u001b[39m, \u001b[0m\u001b[1;36m-0.5721\u001b[0m\u001b[39m,  \u001b[0m\u001b[1;36m0.6708\u001b[0m\u001b[39m, \u001b[0m\u001b[1;36m-0.0058\u001b[0m\u001b[39m, \u001b[0m\u001b[1;36m-0.4772\u001b[0m\u001b[39m, \u001b[0m\u001b[1;36m-0.0057\u001b[0m\u001b[39m,\u001b[0m\n",
       "\u001b[39m         \u001b[0m\u001b[1;36m-0.7711\u001b[0m\u001b[39m, \u001b[0m\u001b[1;36m-0.5067\u001b[0m\u001b[39m,  \u001b[0m\u001b[1;36m0.0423\u001b[0m\u001b[39m,  \u001b[0m\u001b[1;36m0.6598\u001b[0m\u001b[39m, \u001b[0m\u001b[1;36m-0.2242\u001b[0m\u001b[39m, \u001b[0m\u001b[1;36m-0.0076\u001b[0m\u001b[39m,  \u001b[0m\u001b[1;36m0.0357\u001b[0m\u001b[39m, \u001b[0m\u001b[1;36m-0.0675\u001b[0m\u001b[39m,\u001b[0m\n",
       "\u001b[39m         \u001b[0m\u001b[1;36m-0.2175\u001b[0m\u001b[39m,  \u001b[0m\u001b[1;36m0.0748\u001b[0m\u001b[39m,  \u001b[0m\u001b[1;36m0.2125\u001b[0m\u001b[39m, \u001b[0m\u001b[1;36m-0.0379\u001b[0m\u001b[39m, \u001b[0m\u001b[1;36m-0.0506\u001b[0m\u001b[39m,  \u001b[0m\u001b[1;36m0.0940\u001b[0m\u001b[39m,  \u001b[0m\u001b[1;36m0.2224\u001b[0m\u001b[39m, \u001b[0m\u001b[1;36m-0.3279\u001b[0m\u001b[39m,\u001b[0m\n",
       "\u001b[39m          \u001b[0m\u001b[1;36m0.3152\u001b[0m\u001b[39m, \u001b[0m\u001b[1;36m-0.8362\u001b[0m\u001b[39m,  \u001b[0m\u001b[1;36m0.0346\u001b[0m\u001b[39m, \u001b[0m\u001b[1;36m-0.1560\u001b[0m\u001b[39m,  \u001b[0m\u001b[1;36m0.3145\u001b[0m\u001b[39m, \u001b[0m\u001b[1;36m-0.2321\u001b[0m\u001b[39m,  \u001b[0m\u001b[1;36m0.1354\u001b[0m\u001b[39m, \u001b[0m\u001b[1;36m-0.1002\u001b[0m\u001b[39m,\u001b[0m\n",
       "\u001b[39m          \u001b[0m\u001b[1;36m0.5650\u001b[0m\u001b[39m, \u001b[0m\u001b[1;36m-0.6853\u001b[0m\u001b[39m, \u001b[0m\u001b[1;36m-0.7530\u001b[0m\u001b[39m, \u001b[0m\u001b[1;36m-0.1053\u001b[0m\u001b[39m, \u001b[0m\u001b[1;36m-0.0101\u001b[0m\u001b[39m,  \u001b[0m\u001b[1;36m0.8316\u001b[0m\u001b[39m, \u001b[0m\u001b[1;36m-0.0709\u001b[0m\u001b[39m, \u001b[0m\u001b[1;36m-0.9182\u001b[0m\u001b[39m,\u001b[0m\n",
       "\u001b[39m          \u001b[0m\u001b[1;36m0.2797\u001b[0m\u001b[39m, \u001b[0m\u001b[1;36m-0.7639\u001b[0m\u001b[39m,  \u001b[0m\u001b[1;36m0.0071\u001b[0m\u001b[39m,  \u001b[0m\u001b[1;36m0.8645\u001b[0m\u001b[39m, \u001b[0m\u001b[1;36m-0.8269\u001b[0m\u001b[39m, \u001b[0m\u001b[1;36m-0.7947\u001b[0m\u001b[39m, \u001b[0m\u001b[1;36m-0.0059\u001b[0m\u001b[39m, \u001b[0m\u001b[1;36m-0.0047\u001b[0m\u001b[39m,\u001b[0m\n",
       "\u001b[39m         \u001b[0m\u001b[1;36m-0.8721\u001b[0m\u001b[39m, \u001b[0m\u001b[1;36m-0.0312\u001b[0m\u001b[39m,  \u001b[0m\u001b[1;36m0.2468\u001b[0m\u001b[39m,  \u001b[0m\u001b[1;36m0.1500\u001b[0m\u001b[39m, \u001b[0m\u001b[1;36m-0.4374\u001b[0m\u001b[39m, \u001b[0m\u001b[1;36m-0.0025\u001b[0m\u001b[39m,  \u001b[0m\u001b[1;36m0.4330\u001b[0m\u001b[39m, \u001b[0m\u001b[1;36m-0.6813\u001b[0m\u001b[39m,\u001b[0m\n",
       "\u001b[39m          \u001b[0m\u001b[1;36m0.0554\u001b[0m\u001b[39m, \u001b[0m\u001b[1;36m-0.3687\u001b[0m\u001b[39m,  \u001b[0m\u001b[1;36m0.0533\u001b[0m\u001b[39m, \u001b[0m\u001b[1;36m-0.3919\u001b[0m\u001b[39m, \u001b[0m\u001b[1;36m-0.0802\u001b[0m\u001b[39m,  \u001b[0m\u001b[1;36m0.0473\u001b[0m\u001b[39m,  \u001b[0m\u001b[1;36m0.1914\u001b[0m\u001b[39m,  \u001b[0m\u001b[1;36m0.1818\u001b[0m\u001b[39m,\u001b[0m\n",
       "\u001b[39m         \u001b[0m\u001b[1;36m-0.1338\u001b[0m\u001b[39m,  \u001b[0m\u001b[1;36m0.0733\u001b[0m\u001b[39m, \u001b[0m\u001b[1;36m-0.4558\u001b[0m\u001b[39m, \u001b[0m\u001b[1;36m-0.2686\u001b[0m\u001b[39m, \u001b[0m\u001b[1;36m-0.5957\u001b[0m\u001b[39m,  \u001b[0m\u001b[1;36m0.0178\u001b[0m\u001b[39m, \u001b[0m\u001b[1;36m-0.0563\u001b[0m\u001b[39m,  \u001b[0m\u001b[1;36m0.0657\u001b[0m\u001b[39m,\u001b[0m\n",
       "\u001b[39m         \u001b[0m\u001b[1;36m-0.0643\u001b[0m\u001b[39m, \u001b[0m\u001b[1;36m-0.6456\u001b[0m\u001b[39m,  \u001b[0m\u001b[1;36m0.0460\u001b[0m\u001b[39m,  \u001b[0m\u001b[1;36m0.0079\u001b[0m\u001b[39m, \u001b[0m\u001b[1;36m-0.8544\u001b[0m\u001b[39m, \u001b[0m\u001b[1;36m-0.1546\u001b[0m\u001b[39m, \u001b[0m\u001b[1;36m-0.9333\u001b[0m\u001b[39m,  \u001b[0m\u001b[1;36m0.4237\u001b[0m\u001b[39m,\u001b[0m\n",
       "\u001b[39m         \u001b[0m\u001b[1;36m-0.4040\u001b[0m\u001b[39m, \u001b[0m\u001b[1;36m-0.1181\u001b[0m\u001b[39m,  \u001b[0m\u001b[1;36m0.6961\u001b[0m\u001b[39m, \u001b[0m\u001b[1;36m-0.1151\u001b[0m\u001b[39m, \u001b[0m\u001b[1;36m-0.2150\u001b[0m\u001b[39m,  \u001b[0m\u001b[1;36m0.1980\u001b[0m\u001b[39m,  \u001b[0m\u001b[1;36m0.1979\u001b[0m\u001b[39m, \u001b[0m\u001b[1;36m-0.9249\u001b[0m\u001b[39m,\u001b[0m\n",
       "\u001b[39m         \u001b[0m\u001b[1;36m-0.2950\u001b[0m\u001b[39m, \u001b[0m\u001b[1;36m-0.6382\u001b[0m\u001b[39m,  \u001b[0m\u001b[1;36m0.2873\u001b[0m\u001b[39m, \u001b[0m\u001b[1;36m-0.0269\u001b[0m\u001b[39m, \u001b[0m\u001b[1;36m-0.8686\u001b[0m\u001b[39m, \u001b[0m\u001b[1;36m-0.8660\u001b[0m\u001b[39m, \u001b[0m\u001b[1;36m-0.1658\u001b[0m\u001b[39m,  \u001b[0m\u001b[1;36m0.7859\u001b[0m\u001b[39m,\u001b[0m\n",
       "\u001b[39m         \u001b[0m\u001b[1;36m-0.2100\u001b[0m\u001b[39m,  \u001b[0m\u001b[1;36m0.4538\u001b[0m\u001b[39m, \u001b[0m\u001b[1;36m-0.3020\u001b[0m\u001b[39m,  \u001b[0m\u001b[1;36m0.8586\u001b[0m\u001b[39m,  \u001b[0m\u001b[1;36m0.4534\u001b[0m\u001b[39m, \u001b[0m\u001b[1;36m-0.1198\u001b[0m\u001b[39m,  \u001b[0m\u001b[1;36m0.0446\u001b[0m\u001b[39m, \u001b[0m\u001b[1;36m-0.0437\u001b[0m\u001b[39m,\u001b[0m\n",
       "\u001b[39m          \u001b[0m\u001b[1;36m0.6278\u001b[0m\u001b[39m,  \u001b[0m\u001b[1;36m0.3039\u001b[0m\u001b[39m,  \u001b[0m\u001b[1;36m0.1594\u001b[0m\u001b[39m, \u001b[0m\u001b[1;36m-0.1081\u001b[0m\u001b[39m, \u001b[0m\u001b[1;36m-0.2371\u001b[0m\u001b[39m, \u001b[0m\u001b[1;36m-0.1343\u001b[0m\u001b[39m, \u001b[0m\u001b[1;36m-0.7271\u001b[0m\u001b[39m,  \u001b[0m\u001b[1;36m0.2442\u001b[0m\u001b[39m,\u001b[0m\n",
       "\u001b[39m          \u001b[0m\u001b[1;36m0.5411\u001b[0m\u001b[39m, \u001b[0m\u001b[1;36m-0.5014\u001b[0m\u001b[39m,  \u001b[0m\u001b[1;36m0.3123\u001b[0m\u001b[39m,  \u001b[0m\u001b[1;36m0.8586\u001b[0m\u001b[39m,  \u001b[0m\u001b[1;36m0.3235\u001b[0m\u001b[39m,  \u001b[0m\u001b[1;36m0.8235\u001b[0m\u001b[39m,  \u001b[0m\u001b[1;36m0.7574\u001b[0m\u001b[39m,  \u001b[0m\u001b[1;36m0.1325\u001b[0m\u001b[39m,\u001b[0m\n",
       "\u001b[39m         \u001b[0m\u001b[1;36m-0.1789\u001b[0m\u001b[39m,  \u001b[0m\u001b[1;36m0.2106\u001b[0m\u001b[39m,  \u001b[0m\u001b[1;36m0.7336\u001b[0m\u001b[39m,  \u001b[0m\u001b[1;36m0.2035\u001b[0m\u001b[39m, \u001b[0m\u001b[1;36m-0.0527\u001b[0m\u001b[39m,  \u001b[0m\u001b[1;36m0.0700\u001b[0m\u001b[39m, \u001b[0m\u001b[1;36m-0.8755\u001b[0m\u001b[39m,  \u001b[0m\u001b[1;36m0.0039\u001b[0m\u001b[39m,\u001b[0m\n",
       "\u001b[39m         \u001b[0m\u001b[1;36m-0.6228\u001b[0m\u001b[39m,  \u001b[0m\u001b[1;36m0.0147\u001b[0m\u001b[39m, \u001b[0m\u001b[1;36m-0.2588\u001b[0m\u001b[39m, \u001b[0m\u001b[1;36m-0.1455\u001b[0m\u001b[39m,  \u001b[0m\u001b[1;36m0.5915\u001b[0m\u001b[39m, \u001b[0m\u001b[1;36m-0.9461\u001b[0m\u001b[39m, \u001b[0m\u001b[1;36m-0.0857\u001b[0m\u001b[39m, \u001b[0m\u001b[1;36m-0.0951\u001b[0m\u001b[39m,\u001b[0m\n",
       "\u001b[39m          \u001b[0m\u001b[1;36m0.9140\u001b[0m\u001b[39m,  \u001b[0m\u001b[1;36m0.4037\u001b[0m\u001b[39m, \u001b[0m\u001b[1;36m-0.2038\u001b[0m\u001b[39m,  \u001b[0m\u001b[1;36m0.1101\u001b[0m\u001b[39m, \u001b[0m\u001b[1;36m-0.0578\u001b[0m\u001b[39m,  \u001b[0m\u001b[1;36m0.2497\u001b[0m\u001b[39m, \u001b[0m\u001b[1;36m-0.6635\u001b[0m\u001b[39m,  \u001b[0m\u001b[1;36m0.8189\u001b[0m\u001b[39m,\u001b[0m\n",
       "\u001b[39m          \u001b[0m\u001b[1;36m0.2610\u001b[0m\u001b[39m, \u001b[0m\u001b[1;36m-0.0686\u001b[0m\u001b[39m, \u001b[0m\u001b[1;36m-0.5072\u001b[0m\u001b[39m, \u001b[0m\u001b[1;36m-0.6998\u001b[0m\u001b[39m, \u001b[0m\u001b[1;36m-0.6405\u001b[0m\u001b[39m, \u001b[0m\u001b[1;36m-0.4640\u001b[0m\u001b[39m,  \u001b[0m\u001b[1;36m0.3630\u001b[0m\u001b[39m, \u001b[0m\u001b[1;36m-0.1117\u001b[0m\u001b[39m,\u001b[0m\n",
       "\u001b[39m         \u001b[0m\u001b[1;36m-0.5700\u001b[0m\u001b[39m, \u001b[0m\u001b[1;36m-0.0794\u001b[0m\u001b[39m,  \u001b[0m\u001b[1;36m0.0213\u001b[0m\u001b[39m, \u001b[0m\u001b[1;36m-0.0379\u001b[0m\u001b[39m, \u001b[0m\u001b[1;36m-0.6118\u001b[0m\u001b[39m,  \u001b[0m\u001b[1;36m0.6007\u001b[0m\u001b[39m,  \u001b[0m\u001b[1;36m0.1127\u001b[0m\u001b[39m,  \u001b[0m\u001b[1;36m0.1609\u001b[0m\u001b[39m,\u001b[0m\n",
       "\u001b[39m          \u001b[0m\u001b[1;36m0.0294\u001b[0m\u001b[39m,  \u001b[0m\u001b[1;36m0.7055\u001b[0m\u001b[39m, \u001b[0m\u001b[1;36m-0.0561\u001b[0m\u001b[39m,  \u001b[0m\u001b[1;36m0.3584\u001b[0m\u001b[39m,  \u001b[0m\u001b[1;36m0.1335\u001b[0m\u001b[39m,  \u001b[0m\u001b[1;36m0.4769\u001b[0m\u001b[39m, \u001b[0m\u001b[1;36m-0.5945\u001b[0m\u001b[39m, \u001b[0m\u001b[1;36m-0.2892\u001b[0m\u001b[39m,\u001b[0m\n",
       "\u001b[39m         \u001b[0m\u001b[1;36m-0.1746\u001b[0m\u001b[39m, \u001b[0m\u001b[1;36m-0.1795\u001b[0m\u001b[39m, \u001b[0m\u001b[1;36m-0.2869\u001b[0m\u001b[39m,  \u001b[0m\u001b[1;36m0.9259\u001b[0m\u001b[39m, \u001b[0m\u001b[1;36m-0.5801\u001b[0m\u001b[39m,  \u001b[0m\u001b[1;36m0.2189\u001b[0m\u001b[39m, \u001b[0m\u001b[1;36m-0.3240\u001b[0m\u001b[39m, \u001b[0m\u001b[1;36m-0.8004\u001b[0m\u001b[39m,\u001b[0m\n",
       "\u001b[39m         \u001b[0m\u001b[1;36m-0.3330\u001b[0m\u001b[39m, \u001b[0m\u001b[1;36m-0.5192\u001b[0m\u001b[39m,  \u001b[0m\u001b[1;36m0.1174\u001b[0m\u001b[39m, \u001b[0m\u001b[1;36m-0.2544\u001b[0m\u001b[39m,  \u001b[0m\u001b[1;36m0.1987\u001b[0m\u001b[39m, \u001b[0m\u001b[1;36m-0.5383\u001b[0m\u001b[39m, \u001b[0m\u001b[1;36m-0.8494\u001b[0m\u001b[39m,  \u001b[0m\u001b[1;36m0.0545\u001b[0m\u001b[39m,\u001b[0m\n",
       "\u001b[39m         \u001b[0m\u001b[1;36m-0.0952\u001b[0m\u001b[39m, \u001b[0m\u001b[1;36m-0.2895\u001b[0m\u001b[39m,  \u001b[0m\u001b[1;36m0.2066\u001b[0m\u001b[39m,  \u001b[0m\u001b[1;36m0.1307\u001b[0m\u001b[39m, \u001b[0m\u001b[1;36m-0.0976\u001b[0m\u001b[39m,  \u001b[0m\u001b[1;36m0.0550\u001b[0m\u001b[39m,  \u001b[0m\u001b[1;36m0.9073\u001b[0m\u001b[39m, \u001b[0m\u001b[1;36m-0.0254\u001b[0m\u001b[39m,\u001b[0m\n",
       "\u001b[39m         \u001b[0m\u001b[1;36m-0.0522\u001b[0m\u001b[39m, \u001b[0m\u001b[1;36m-0.1758\u001b[0m\u001b[39m,  \u001b[0m\u001b[1;36m0.6588\u001b[0m\u001b[39m, \u001b[0m\u001b[1;36m-0.1240\u001b[0m\u001b[39m, \u001b[0m\u001b[1;36m-0.7822\u001b[0m\u001b[39m,  \u001b[0m\u001b[1;36m0.4837\u001b[0m\u001b[39m,  \u001b[0m\u001b[1;36m0.3250\u001b[0m\u001b[39m, \u001b[0m\u001b[1;36m-0.2067\u001b[0m\u001b[39m,\u001b[0m\n",
       "\u001b[39m         \u001b[0m\u001b[1;36m-0.0759\u001b[0m\u001b[39m,  \u001b[0m\u001b[1;36m0.0155\u001b[0m\u001b[39m,  \u001b[0m\u001b[1;36m0.3383\u001b[0m\u001b[39m,  \u001b[0m\u001b[1;36m0.6914\u001b[0m\u001b[39m, \u001b[0m\u001b[1;36m-0.6414\u001b[0m\u001b[39m,  \u001b[0m\u001b[1;36m0.7708\u001b[0m\u001b[39m,  \u001b[0m\u001b[1;36m0.0536\u001b[0m\u001b[39m,  \u001b[0m\u001b[1;36m0.8329\u001b[0m\u001b[39m,\u001b[0m\n",
       "\u001b[39m          \u001b[0m\u001b[1;36m0.0549\u001b[0m\u001b[39m, \u001b[0m\u001b[1;36m-0.8772\u001b[0m\u001b[39m, \u001b[0m\u001b[1;36m-0.8963\u001b[0m\u001b[39m, \u001b[0m\u001b[1;36m-0.0380\u001b[0m\u001b[39m, \u001b[0m\u001b[1;36m-0.1602\u001b[0m\u001b[39m,  \u001b[0m\u001b[1;36m0.8490\u001b[0m\u001b[39m, \u001b[0m\u001b[1;36m-0.2231\u001b[0m\u001b[39m, \u001b[0m\u001b[1;36m-0.3499\u001b[0m\u001b[39m,\u001b[0m\n",
       "\u001b[39m         \u001b[0m\u001b[1;36m-0.8385\u001b[0m\u001b[39m, \u001b[0m\u001b[1;36m-0.8270\u001b[0m\u001b[39m, \u001b[0m\u001b[1;36m-0.6319\u001b[0m\u001b[39m,  \u001b[0m\u001b[1;36m0.7321\u001b[0m\u001b[39m, \u001b[0m\u001b[1;36m-0.8598\u001b[0m\u001b[39m,  \u001b[0m\u001b[1;36m0.2218\u001b[0m\u001b[39m,  \u001b[0m\u001b[1;36m0.0388\u001b[0m\u001b[39m,  \u001b[0m\u001b[1;36m0.8097\u001b[0m\u001b[39m,\u001b[0m\n",
       "\u001b[39m         \u001b[0m\u001b[1;36m-0.1439\u001b[0m\u001b[39m, \u001b[0m\u001b[1;36m-0.0960\u001b[0m\u001b[39m, \u001b[0m\u001b[1;36m-0.8835\u001b[0m\u001b[39m, \u001b[0m\u001b[1;36m-0.0709\u001b[0m\u001b[39m, \u001b[0m\u001b[1;36m-0.1903\u001b[0m\u001b[39m,  \u001b[0m\u001b[1;36m0.3497\u001b[0m\u001b[39m, \u001b[0m\u001b[1;36m-0.1437\u001b[0m\u001b[39m, \u001b[0m\u001b[1;36m-0.2520\u001b[0m\u001b[39m,\u001b[0m\n",
       "\u001b[39m          \u001b[0m\u001b[1;36m0.3292\u001b[0m\u001b[39m, \u001b[0m\u001b[1;36m-0.8301\u001b[0m\u001b[39m, \u001b[0m\u001b[1;36m-0.2173\u001b[0m\u001b[39m,  \u001b[0m\u001b[1;36m0.2020\u001b[0m\u001b[39m,  \u001b[0m\u001b[1;36m0.6878\u001b[0m\u001b[39m, \u001b[0m\u001b[1;36m-0.0429\u001b[0m\u001b[39m, \u001b[0m\u001b[1;36m-0.7013\u001b[0m\u001b[39m, \u001b[0m\u001b[1;36m-0.0615\u001b[0m\u001b[39m,\u001b[0m\n",
       "\u001b[39m          \u001b[0m\u001b[1;36m0.3374\u001b[0m\u001b[39m,  \u001b[0m\u001b[1;36m0.1504\u001b[0m\u001b[39m,  \u001b[0m\u001b[1;36m0.7790\u001b[0m\u001b[39m,  \u001b[0m\u001b[1;36m0.1227\u001b[0m\u001b[39m,  \u001b[0m\u001b[1;36m0.9111\u001b[0m\u001b[39m,  \u001b[0m\u001b[1;36m0.7532\u001b[0m\u001b[39m,  \u001b[0m\u001b[1;36m0.6668\u001b[0m\u001b[39m, \u001b[0m\u001b[1;36m-0.1901\u001b[0m\u001b[39m,\u001b[0m\n",
       "\u001b[39m         \u001b[0m\u001b[1;36m-0.9270\u001b[0m\u001b[39m, \u001b[0m\u001b[1;36m-0.5016\u001b[0m\u001b[39m,  \u001b[0m\u001b[1;36m0.0374\u001b[0m\u001b[39m, \u001b[0m\u001b[1;36m-0.5449\u001b[0m\u001b[39m, \u001b[0m\u001b[1;36m-0.9212\u001b[0m\u001b[39m, \u001b[0m\u001b[1;36m-0.8025\u001b[0m\u001b[39m, \u001b[0m\u001b[1;36m-0.3879\u001b[0m\u001b[39m,  \u001b[0m\u001b[1;36m0.1198\u001b[0m\u001b[39m,\u001b[0m\n",
       "\u001b[39m         \u001b[0m\u001b[1;36m-0.9358\u001b[0m\u001b[39m, \u001b[0m\u001b[1;36m-0.0178\u001b[0m\u001b[39m,  \u001b[0m\u001b[1;36m0.2445\u001b[0m\u001b[39m, \u001b[0m\u001b[1;36m-0.3594\u001b[0m\u001b[39m, \u001b[0m\u001b[1;36m-0.3018\u001b[0m\u001b[39m,  \u001b[0m\u001b[1;36m0.8001\u001b[0m\u001b[39m,  \u001b[0m\u001b[1;36m0.0268\u001b[0m\u001b[39m, \u001b[0m\u001b[1;36m-0.8822\u001b[0m\u001b[39m,\u001b[0m\n",
       "\u001b[39m         \u001b[0m\u001b[1;36m-0.3286\u001b[0m\u001b[39m,  \u001b[0m\u001b[1;36m0.6125\u001b[0m\u001b[39m,  \u001b[0m\u001b[1;36m0.1241\u001b[0m\u001b[39m,  \u001b[0m\u001b[1;36m0.5037\u001b[0m\u001b[39m, \u001b[0m\u001b[1;36m-0.2525\u001b[0m\u001b[39m,  \u001b[0m\u001b[1;36m0.8497\u001b[0m\u001b[39m, \u001b[0m\u001b[1;36m-0.3251\u001b[0m\u001b[39m,  \u001b[0m\u001b[1;36m0.5409\u001b[0m\u001b[39m,\u001b[0m\n",
       "\u001b[39m          \u001b[0m\u001b[1;36m0.0324\u001b[0m\u001b[39m,  \u001b[0m\u001b[1;36m0.0158\u001b[0m\u001b[39m,  \u001b[0m\u001b[1;36m0.2728\u001b[0m\u001b[39m, \u001b[0m\u001b[1;36m-0.1998\u001b[0m\u001b[39m,  \u001b[0m\u001b[1;36m0.3093\u001b[0m\u001b[39m, \u001b[0m\u001b[1;36m-0.4261\u001b[0m\u001b[39m,  \u001b[0m\u001b[1;36m0.8405\u001b[0m\u001b[39m, \u001b[0m\u001b[1;36m-0.0768\u001b[0m\u001b[39m,\u001b[0m\n",
       "\u001b[39m         \u001b[0m\u001b[1;36m-0.4948\u001b[0m\u001b[39m, \u001b[0m\u001b[1;36m-0.3032\u001b[0m\u001b[39m,  \u001b[0m\u001b[1;36m0.6713\u001b[0m\u001b[39m,  \u001b[0m\u001b[1;36m0.1159\u001b[0m\u001b[39m, \u001b[0m\u001b[1;36m-0.2731\u001b[0m\u001b[39m, \u001b[0m\u001b[1;36m-0.8567\u001b[0m\u001b[39m,  \u001b[0m\u001b[1;36m0.0704\u001b[0m\u001b[39m,  \u001b[0m\u001b[1;36m0.1408\u001b[0m\u001b[39m,\u001b[0m\n",
       "\u001b[39m          \u001b[0m\u001b[1;36m0.6900\u001b[0m\u001b[39m,  \u001b[0m\u001b[1;36m0.2473\u001b[0m\u001b[39m, \u001b[0m\u001b[1;36m-0.2437\u001b[0m\u001b[39m,  \u001b[0m\u001b[1;36m0.1855\u001b[0m\u001b[39m, \u001b[0m\u001b[1;36m-0.0164\u001b[0m\u001b[39m, \u001b[0m\u001b[1;36m-0.5041\u001b[0m\u001b[39m, \u001b[0m\u001b[1;36m-0.5394\u001b[0m\u001b[39m, \u001b[0m\u001b[1;36m-0.0105\u001b[0m\u001b[39m,\u001b[0m\n",
       "\u001b[39m         \u001b[0m\u001b[1;36m-0.0548\u001b[0m\u001b[39m,  \u001b[0m\u001b[1;36m0.1245\u001b[0m\u001b[39m,  \u001b[0m\u001b[1;36m0.3273\u001b[0m\u001b[39m, \u001b[0m\u001b[1;36m-0.2872\u001b[0m\u001b[39m,  \u001b[0m\u001b[1;36m0.6865\u001b[0m\u001b[39m, \u001b[0m\u001b[1;36m-0.8818\u001b[0m\u001b[39m,  \u001b[0m\u001b[1;36m0.7337\u001b[0m\u001b[39m, \u001b[0m\u001b[1;36m-0.2148\u001b[0m\u001b[39m,\u001b[0m\n",
       "\u001b[39m         \u001b[0m\u001b[1;36m-0.2029\u001b[0m\u001b[39m,  \u001b[0m\u001b[1;36m0.9301\u001b[0m\u001b[39m,  \u001b[0m\u001b[1;36m0.4300\u001b[0m\u001b[39m, \u001b[0m\u001b[1;36m-0.5917\u001b[0m\u001b[39m,  \u001b[0m\u001b[1;36m0.1146\u001b[0m\u001b[39m, \u001b[0m\u001b[1;36m-0.0950\u001b[0m\u001b[39m, \u001b[0m\u001b[1;36m-0.4666\u001b[0m\u001b[39m,  \u001b[0m\u001b[1;36m0.6993\u001b[0m\u001b[39m,\u001b[0m\n",
       "\u001b[39m          \u001b[0m\u001b[1;36m0.0760\u001b[0m\u001b[39m, \u001b[0m\u001b[1;36m-0.8607\u001b[0m\u001b[39m,  \u001b[0m\u001b[1;36m0.1320\u001b[0m\u001b[39m, \u001b[0m\u001b[1;36m-0.7799\u001b[0m\u001b[39m, \u001b[0m\u001b[1;36m-0.2093\u001b[0m\u001b[39m, \u001b[0m\u001b[1;36m-0.2988\u001b[0m\u001b[39m,  \u001b[0m\u001b[1;36m0.5085\u001b[0m\u001b[39m,  \u001b[0m\u001b[1;36m0.4297\u001b[0m\u001b[39m,\u001b[0m\n",
       "\u001b[39m          \u001b[0m\u001b[1;36m0.3793\u001b[0m\u001b[39m, \u001b[0m\u001b[1;36m-0.7191\u001b[0m\u001b[39m,  \u001b[0m\u001b[1;36m0.9261\u001b[0m\u001b[39m, \u001b[0m\u001b[1;36m-0.8328\u001b[0m\u001b[39m,  \u001b[0m\u001b[1;36m0.4893\u001b[0m\u001b[39m, \u001b[0m\u001b[1;36m-0.3364\u001b[0m\u001b[39m, \u001b[0m\u001b[1;36m-0.8739\u001b[0m\u001b[39m,  \u001b[0m\u001b[1;36m0.6975\u001b[0m\u001b[39m,\u001b[0m\n",
       "\u001b[39m          \u001b[0m\u001b[1;36m0.8263\u001b[0m\u001b[39m, \u001b[0m\u001b[1;36m-0.5892\u001b[0m\u001b[39m,  \u001b[0m\u001b[1;36m0.2169\u001b[0m\u001b[39m, \u001b[0m\u001b[1;36m-0.4172\u001b[0m\u001b[39m,  \u001b[0m\u001b[1;36m0.7884\u001b[0m\u001b[39m, \u001b[0m\u001b[1;36m-0.0010\u001b[0m\u001b[39m, \u001b[0m\u001b[1;36m-0.0345\u001b[0m\u001b[39m,  \u001b[0m\u001b[1;36m0.5137\u001b[0m\u001b[39m,\u001b[0m\n",
       "\u001b[39m          \u001b[0m\u001b[1;36m0.4505\u001b[0m\u001b[39m,  \u001b[0m\u001b[1;36m0.1661\u001b[0m\u001b[39m,  \u001b[0m\u001b[1;36m0.8114\u001b[0m\u001b[39m,  \u001b[0m\u001b[1;36m0.0576\u001b[0m\u001b[39m, \u001b[0m\u001b[1;36m-0.0548\u001b[0m\u001b[39m, \u001b[0m\u001b[1;36m-0.2148\u001b[0m\u001b[39m, \u001b[0m\u001b[1;36m-0.2455\u001b[0m\u001b[39m,  \u001b[0m\u001b[1;36m0.2615\u001b[0m\u001b[39m,\u001b[0m\n",
       "\u001b[39m          \u001b[0m\u001b[1;36m0.2616\u001b[0m\u001b[39m, \u001b[0m\u001b[1;36m-0.1074\u001b[0m\u001b[39m, \u001b[0m\u001b[1;36m-0.0241\u001b[0m\u001b[39m, \u001b[0m\u001b[1;36m-0.2173\u001b[0m\u001b[39m,  \u001b[0m\u001b[1;36m0.0868\u001b[0m\u001b[39m, \u001b[0m\u001b[1;36m-0.8198\u001b[0m\u001b[39m, \u001b[0m\u001b[1;36m-0.6233\u001b[0m\u001b[39m,  \u001b[0m\u001b[1;36m0.6795\u001b[0m\u001b[39m,\u001b[0m\n",
       "\u001b[39m          \u001b[0m\u001b[1;36m0.9454\u001b[0m\u001b[39m,  \u001b[0m\u001b[1;36m0.3674\u001b[0m\u001b[39m,  \u001b[0m\u001b[1;36m0.8470\u001b[0m\u001b[39m,  \u001b[0m\u001b[1;36m0.9148\u001b[0m\u001b[39m, \u001b[0m\u001b[1;36m-0.0713\u001b[0m\u001b[39m, \u001b[0m\u001b[1;36m-0.0437\u001b[0m\u001b[39m, \u001b[0m\u001b[1;36m-0.1643\u001b[0m\u001b[39m,  \u001b[0m\u001b[1;36m0.0690\u001b[0m\u001b[39m,\u001b[0m\n",
       "\u001b[39m          \u001b[0m\u001b[1;36m0.1052\u001b[0m\u001b[39m, \u001b[0m\u001b[1;36m-0.1050\u001b[0m\u001b[39m, \u001b[0m\u001b[1;36m-0.1409\u001b[0m\u001b[39m, \u001b[0m\u001b[1;36m-0.3235\u001b[0m\u001b[39m, \u001b[0m\u001b[1;36m-0.8963\u001b[0m\u001b[39m,  \u001b[0m\u001b[1;36m0.0935\u001b[0m\u001b[39m, \u001b[0m\u001b[1;36m-0.0060\u001b[0m\u001b[39m,  \u001b[0m\u001b[1;36m0.2386\u001b[0m\u001b[39m,\u001b[0m\n",
       "\u001b[39m          \u001b[0m\u001b[1;36m0.5441\u001b[0m\u001b[39m, \u001b[0m\u001b[1;36m-0.3865\u001b[0m\u001b[39m, \u001b[0m\u001b[1;36m-0.3859\u001b[0m\u001b[39m, \u001b[0m\u001b[1;36m-0.6296\u001b[0m\u001b[39m,  \u001b[0m\u001b[1;36m0.4600\u001b[0m\u001b[39m, \u001b[0m\u001b[1;36m-0.1452\u001b[0m\u001b[39m, \u001b[0m\u001b[1;36m-0.3748\u001b[0m\u001b[39m, \u001b[0m\u001b[1;36m-0.7764\u001b[0m\u001b[39m,\u001b[0m\n",
       "\u001b[39m          \u001b[0m\u001b[1;36m0.8673\u001b[0m\u001b[39m, \u001b[0m\u001b[1;36m-0.0412\u001b[0m\u001b[39m,  \u001b[0m\u001b[1;36m0.1074\u001b[0m\u001b[39m,  \u001b[0m\u001b[1;36m0.3908\u001b[0m\u001b[39m,  \u001b[0m\u001b[1;36m0.7853\u001b[0m\u001b[39m, \u001b[0m\u001b[1;36m-0.1903\u001b[0m\u001b[39m, \u001b[0m\u001b[1;36m-0.1322\u001b[0m\u001b[39m, \u001b[0m\u001b[1;36m-0.2129\u001b[0m\u001b[39m,\u001b[0m\n",
       "\u001b[39m         \u001b[0m\u001b[1;36m-0.7734\u001b[0m\u001b[39m, \u001b[0m\u001b[1;36m-0.0824\u001b[0m\u001b[39m, \u001b[0m\u001b[1;36m-0.7843\u001b[0m\u001b[39m,  \u001b[0m\u001b[1;36m0.8424\u001b[0m\u001b[39m, \u001b[0m\u001b[1;36m-0.4708\u001b[0m\u001b[39m,  \u001b[0m\u001b[1;36m0.1736\u001b[0m\u001b[39m, \u001b[0m\u001b[1;36m-0.2464\u001b[0m\u001b[39m,  \u001b[0m\u001b[1;36m0.4879\u001b[0m\u001b[39m,\u001b[0m\n",
       "\u001b[39m          \u001b[0m\u001b[1;36m0.8418\u001b[0m\u001b[39m, \u001b[0m\u001b[1;36m-0.8692\u001b[0m\u001b[39m,  \u001b[0m\u001b[1;36m0.3271\u001b[0m\u001b[39m,  \u001b[0m\u001b[1;36m0.4380\u001b[0m\u001b[39m, \u001b[0m\u001b[1;36m-0.0025\u001b[0m\u001b[39m, \u001b[0m\u001b[1;36m-0.4904\u001b[0m\u001b[39m, \u001b[0m\u001b[1;36m-0.3109\u001b[0m\u001b[39m, \u001b[0m\u001b[1;36m-0.1259\u001b[0m\u001b[39m,\u001b[0m\n",
       "\u001b[39m          \u001b[0m\u001b[1;36m0.3359\u001b[0m\u001b[39m,  \u001b[0m\u001b[1;36m0.7576\u001b[0m\u001b[39m,  \u001b[0m\u001b[1;36m0.1931\u001b[0m\u001b[39m, \u001b[0m\u001b[1;36m-0.1170\u001b[0m\u001b[39m, \u001b[0m\u001b[1;36m-0.8021\u001b[0m\u001b[39m, \u001b[0m\u001b[1;36m-0.7589\u001b[0m\u001b[39m, \u001b[0m\u001b[1;36m-0.1433\u001b[0m\u001b[39m, \u001b[0m\u001b[1;36m-0.0618\u001b[0m\u001b[39m,\u001b[0m\n",
       "\u001b[39m         \u001b[0m\u001b[1;36m-0.8174\u001b[0m\u001b[39m,  \u001b[0m\u001b[1;36m0.3888\u001b[0m\u001b[39m,  \u001b[0m\u001b[1;36m0.4358\u001b[0m\u001b[39m, \u001b[0m\u001b[1;36m-0.2078\u001b[0m\u001b[39m, \u001b[0m\u001b[1;36m-0.8992\u001b[0m\u001b[39m, \u001b[0m\u001b[1;36m-0.5927\u001b[0m\u001b[39m, \u001b[0m\u001b[1;36m-0.4879\u001b[0m\u001b[39m,  \u001b[0m\u001b[1;36m0.0939\u001b[0m\u001b[39m,\u001b[0m\n",
       "\u001b[39m         \u001b[0m\u001b[1;36m-0.1261\u001b[0m\u001b[39m, \u001b[0m\u001b[1;36m-0.6884\u001b[0m\u001b[39m,  \u001b[0m\u001b[1;36m0.7238\u001b[0m\u001b[39m, \u001b[0m\u001b[1;36m-0.0149\u001b[0m\u001b[39m, \u001b[0m\u001b[1;36m-0.1674\u001b[0m\u001b[39m,  \u001b[0m\u001b[1;36m0.1394\u001b[0m\u001b[39m,  \u001b[0m\u001b[1;36m0.1052\u001b[0m\u001b[39m, \u001b[0m\u001b[1;36m-0.6999\u001b[0m\u001b[39m,\u001b[0m\n",
       "\u001b[39m          \u001b[0m\u001b[1;36m0.8851\u001b[0m\u001b[39m, \u001b[0m\u001b[1;36m-0.1913\u001b[0m\u001b[39m, \u001b[0m\u001b[1;36m-0.4372\u001b[0m\u001b[39m, \u001b[0m\u001b[1;36m-0.2943\u001b[0m\u001b[39m, \u001b[0m\u001b[1;36m-0.4273\u001b[0m\u001b[39m,  \u001b[0m\u001b[1;36m0.6599\u001b[0m\u001b[39m, \u001b[0m\u001b[1;36m-0.0152\u001b[0m\u001b[39m, \u001b[0m\u001b[1;36m-0.4108\u001b[0m\u001b[39m,\u001b[0m\n",
       "\u001b[39m          \u001b[0m\u001b[1;36m0.1884\u001b[0m\u001b[39m,  \u001b[0m\u001b[1;36m0.7213\u001b[0m\u001b[39m, \u001b[0m\u001b[1;36m-0.2668\u001b[0m\u001b[39m, \u001b[0m\u001b[1;36m-0.3348\u001b[0m\u001b[39m,  \u001b[0m\u001b[1;36m0.0820\u001b[0m\u001b[39m, \u001b[0m\u001b[1;36m-0.1276\u001b[0m\u001b[39m,  \u001b[0m\u001b[1;36m0.3906\u001b[0m\u001b[39m,  \u001b[0m\u001b[1;36m0.2650\u001b[0m\u001b[39m,\u001b[0m\n",
       "\u001b[39m         \u001b[0m\u001b[1;36m-0.2469\u001b[0m\u001b[39m, \u001b[0m\u001b[1;36m-0.2557\u001b[0m\u001b[39m,  \u001b[0m\u001b[1;36m0.8819\u001b[0m\u001b[39m,  \u001b[0m\u001b[1;36m0.7541\u001b[0m\u001b[39m,  \u001b[0m\u001b[1;36m0.4244\u001b[0m\u001b[39m,  \u001b[0m\u001b[1;36m0.0945\u001b[0m\u001b[39m,  \u001b[0m\u001b[1;36m0.1066\u001b[0m\u001b[39m,  \u001b[0m\u001b[1;36m0.7174\u001b[0m\u001b[39m,\u001b[0m\n",
       "\u001b[39m         \u001b[0m\u001b[1;36m-0.7749\u001b[0m\u001b[39m,  \u001b[0m\u001b[1;36m0.6930\u001b[0m\u001b[39m,  \u001b[0m\u001b[1;36m0.0750\u001b[0m\u001b[39m,  \u001b[0m\u001b[1;36m0.0210\u001b[0m\u001b[39m,  \u001b[0m\u001b[1;36m0.1332\u001b[0m\u001b[39m,  \u001b[0m\u001b[1;36m0.0218\u001b[0m\u001b[39m, \u001b[0m\u001b[1;36m-0.3340\u001b[0m\u001b[39m,  \u001b[0m\u001b[1;36m0.0499\u001b[0m\u001b[39m,\u001b[0m\n",
       "\u001b[39m         \u001b[0m\u001b[1;36m-0.1066\u001b[0m\u001b[39m,  \u001b[0m\u001b[1;36m0.0772\u001b[0m\u001b[39m, \u001b[0m\u001b[1;36m-0.0027\u001b[0m\u001b[39m,  \u001b[0m\u001b[1;36m0.0168\u001b[0m\u001b[39m,  \u001b[0m\u001b[1;36m0.2696\u001b[0m\u001b[39m,  \u001b[0m\u001b[1;36m0.8706\u001b[0m\u001b[39m, \u001b[0m\u001b[1;36m-0.0545\u001b[0m\u001b[39m,  \u001b[0m\u001b[1;36m0.5782\u001b[0m\u001b[39m,\u001b[0m\n",
       "\u001b[39m         \u001b[0m\u001b[1;36m-0.8494\u001b[0m\u001b[39m, \u001b[0m\u001b[1;36m-0.4468\u001b[0m\u001b[39m, \u001b[0m\u001b[1;36m-0.2978\u001b[0m\u001b[39m,  \u001b[0m\u001b[1;36m0.8791\u001b[0m\u001b[39m,  \u001b[0m\u001b[1;36m0.5856\u001b[0m\u001b[39m,  \u001b[0m\u001b[1;36m0.0942\u001b[0m\u001b[39m,  \u001b[0m\u001b[1;36m0.3980\u001b[0m\u001b[39m,  \u001b[0m\u001b[1;36m0.1902\u001b[0m\u001b[39m,\u001b[0m\n",
       "\u001b[39m          \u001b[0m\u001b[1;36m0.0757\u001b[0m\u001b[39m, \u001b[0m\u001b[1;36m-0.3555\u001b[0m\u001b[39m,  \u001b[0m\u001b[1;36m0.1511\u001b[0m\u001b[39m,  \u001b[0m\u001b[1;36m0.1419\u001b[0m\u001b[39m, \u001b[0m\u001b[1;36m-0.2696\u001b[0m\u001b[39m, \u001b[0m\u001b[1;36m-0.0363\u001b[0m\u001b[39m,  \u001b[0m\u001b[1;36m0.7027\u001b[0m\u001b[39m, \u001b[0m\u001b[1;36m-0.1426\u001b[0m\u001b[39m,\u001b[0m\n",
       "\u001b[39m         \u001b[0m\u001b[1;36m-0.9098\u001b[0m\u001b[39m, \u001b[0m\u001b[1;36m-0.6040\u001b[0m\u001b[39m,  \u001b[0m\u001b[1;36m0.0087\u001b[0m\u001b[39m, \u001b[0m\u001b[1;36m-0.8055\u001b[0m\u001b[39m,  \u001b[0m\u001b[1;36m0.7412\u001b[0m\u001b[39m, \u001b[0m\u001b[1;36m-0.0687\u001b[0m\u001b[39m,  \u001b[0m\u001b[1;36m0.0710\u001b[0m\u001b[39m,  \u001b[0m\u001b[1;36m0.0560\u001b[0m\u001b[39m,\u001b[0m\n",
       "\u001b[39m         \u001b[0m\u001b[1;36m-0.2890\u001b[0m\u001b[39m, \u001b[0m\u001b[1;36m-0.5945\u001b[0m\u001b[39m, \u001b[0m\u001b[1;36m-0.0879\u001b[0m\u001b[39m, \u001b[0m\u001b[1;36m-0.7842\u001b[0m\u001b[39m,  \u001b[0m\u001b[1;36m0.1130\u001b[0m\u001b[39m,  \u001b[0m\u001b[1;36m0.0748\u001b[0m\u001b[39m,  \u001b[0m\u001b[1;36m0.8717\u001b[0m\u001b[39m, \u001b[0m\u001b[1;36m-0.0603\u001b[0m\u001b[39m,\u001b[0m\n",
       "\u001b[39m          \u001b[0m\u001b[1;36m0.1321\u001b[0m\u001b[39m, \u001b[0m\u001b[1;36m-0.7399\u001b[0m\u001b[39m,  \u001b[0m\u001b[1;36m0.0598\u001b[0m\u001b[39m,  \u001b[0m\u001b[1;36m0.4705\u001b[0m\u001b[39m, \u001b[0m\u001b[1;36m-0.1345\u001b[0m\u001b[39m, \u001b[0m\u001b[1;36m-0.7431\u001b[0m\u001b[39m,  \u001b[0m\u001b[1;36m0.7662\u001b[0m\u001b[39m, \u001b[0m\u001b[1;36m-0.8007\u001b[0m\u001b[39m,\u001b[0m\n",
       "\u001b[39m          \u001b[0m\u001b[1;36m0.2177\u001b[0m\u001b[39m,  \u001b[0m\u001b[1;36m0.6146\u001b[0m\u001b[39m,  \u001b[0m\u001b[1;36m0.1365\u001b[0m\u001b[39m, \u001b[0m\u001b[1;36m-0.2892\u001b[0m\u001b[39m, \u001b[0m\u001b[1;36m-0.0639\u001b[0m\u001b[39m,  \u001b[0m\u001b[1;36m0.0223\u001b[0m\u001b[39m, \u001b[0m\u001b[1;36m-0.0199\u001b[0m\u001b[39m, \u001b[0m\u001b[1;36m-0.3535\u001b[0m\u001b[39m,\u001b[0m\n",
       "\u001b[39m          \u001b[0m\u001b[1;36m0.5351\u001b[0m\u001b[39m, \u001b[0m\u001b[1;36m-0.7488\u001b[0m\u001b[39m, \u001b[0m\u001b[1;36m-0.0645\u001b[0m\u001b[39m,  \u001b[0m\u001b[1;36m0.0951\u001b[0m\u001b[39m,  \u001b[0m\u001b[1;36m0.1047\u001b[0m\u001b[39m,  \u001b[0m\u001b[1;36m0.1432\u001b[0m\u001b[39m, \u001b[0m\u001b[1;36m-0.7104\u001b[0m\u001b[39m,  \u001b[0m\u001b[1;36m0.1861\u001b[0m\u001b[39m,\u001b[0m\n",
       "\u001b[39m         \u001b[0m\u001b[1;36m-0.0725\u001b[0m\u001b[39m, \u001b[0m\u001b[1;36m-0.0458\u001b[0m\u001b[39m,  \u001b[0m\u001b[1;36m0.0662\u001b[0m\u001b[39m, \u001b[0m\u001b[1;36m-0.0209\u001b[0m\u001b[39m, \u001b[0m\u001b[1;36m-0.1860\u001b[0m\u001b[39m,  \u001b[0m\u001b[1;36m0.5952\u001b[0m\u001b[39m,  \u001b[0m\u001b[1;36m0.1718\u001b[0m\u001b[39m,  \u001b[0m\u001b[1;36m0.3067\u001b[0m\u001b[39m,\u001b[0m\n",
       "\u001b[39m          \u001b[0m\u001b[1;36m0.0611\u001b[0m\u001b[39m,  \u001b[0m\u001b[1;36m0.0231\u001b[0m\u001b[39m, \u001b[0m\u001b[1;36m-0.5465\u001b[0m\u001b[39m,  \u001b[0m\u001b[1;36m0.1083\u001b[0m\u001b[39m, \u001b[0m\u001b[1;36m-0.1431\u001b[0m\u001b[39m, \u001b[0m\u001b[1;36m-0.8623\u001b[0m\u001b[39m,  \u001b[0m\u001b[1;36m0.0074\u001b[0m\u001b[39m, \u001b[0m\u001b[1;36m-0.8595\u001b[0m\u001b[39m,\u001b[0m\n",
       "\u001b[39m         \u001b[0m\u001b[1;36m-0.0894\u001b[0m\u001b[39m, \u001b[0m\u001b[1;36m-0.8424\u001b[0m\u001b[39m,  \u001b[0m\u001b[1;36m0.0172\u001b[0m\u001b[39m,  \u001b[0m\u001b[1;36m0.7876\u001b[0m\u001b[39m,  \u001b[0m\u001b[1;36m0.4146\u001b[0m\u001b[39m,  \u001b[0m\u001b[1;36m0.1593\u001b[0m\u001b[39m, \u001b[0m\u001b[1;36m-0.4929\u001b[0m\u001b[39m,  \u001b[0m\u001b[1;36m0.6870\u001b[0m\u001b[39m,\u001b[0m\n",
       "\u001b[39m          \u001b[0m\u001b[1;36m0.9444\u001b[0m\u001b[39m,  \u001b[0m\u001b[1;36m0.5498\u001b[0m\u001b[39m,  \u001b[0m\u001b[1;36m0.2952\u001b[0m\u001b[39m, \u001b[0m\u001b[1;36m-0.0107\u001b[0m\u001b[39m, \u001b[0m\u001b[1;36m-0.7160\u001b[0m\u001b[39m,  \u001b[0m\u001b[1;36m0.1233\u001b[0m\u001b[39m, \u001b[0m\u001b[1;36m-0.0171\u001b[0m\u001b[39m, \u001b[0m\u001b[1;36m-0.1452\u001b[0m\u001b[39m,\u001b[0m\n",
       "\u001b[39m          \u001b[0m\u001b[1;36m0.0385\u001b[0m\u001b[39m,  \u001b[0m\u001b[1;36m0.1376\u001b[0m\u001b[39m,  \u001b[0m\u001b[1;36m0.1370\u001b[0m\u001b[39m,  \u001b[0m\u001b[1;36m0.7512\u001b[0m\u001b[39m, \u001b[0m\u001b[1;36m-0.1762\u001b[0m\u001b[39m, \u001b[0m\u001b[1;36m-0.4561\u001b[0m\u001b[39m, \u001b[0m\u001b[1;36m-0.4529\u001b[0m\u001b[39m,  \u001b[0m\u001b[1;36m0.0027\u001b[0m\u001b[39m,\u001b[0m\n",
       "\u001b[39m         \u001b[0m\u001b[1;36m-0.0505\u001b[0m\u001b[39m,  \u001b[0m\u001b[1;36m0.9322\u001b[0m\u001b[39m, \u001b[0m\u001b[1;36m-0.0214\u001b[0m\u001b[39m, \u001b[0m\u001b[1;36m-0.7946\u001b[0m\u001b[39m, \u001b[0m\u001b[1;36m-0.1285\u001b[0m\u001b[39m, \u001b[0m\u001b[1;36m-0.4370\u001b[0m\u001b[39m, \u001b[0m\u001b[1;36m-0.5768\u001b[0m\u001b[39m,  \u001b[0m\u001b[1;36m0.0418\u001b[0m\u001b[39m,\u001b[0m\n",
       "\u001b[39m         \u001b[0m\u001b[1;36m-0.0775\u001b[0m\u001b[39m, \u001b[0m\u001b[1;36m-0.4993\u001b[0m\u001b[39m, \u001b[0m\u001b[1;36m-0.4570\u001b[0m\u001b[39m,  \u001b[0m\u001b[1;36m0.7166\u001b[0m\u001b[39m,  \u001b[0m\u001b[1;36m0.1269\u001b[0m\u001b[39m, \u001b[0m\u001b[1;36m-0.2100\u001b[0m\u001b[39m,  \u001b[0m\u001b[1;36m0.1442\u001b[0m\u001b[39m,  \u001b[0m\u001b[1;36m0.0285\u001b[0m\u001b[39m,\u001b[0m\n",
       "\u001b[39m         \u001b[0m\u001b[1;36m-0.3311\u001b[0m\u001b[39m, \u001b[0m\u001b[1;36m-0.1992\u001b[0m\u001b[39m, \u001b[0m\u001b[1;36m-0.1104\u001b[0m\u001b[39m,  \u001b[0m\u001b[1;36m0.8912\u001b[0m\u001b[39m,  \u001b[0m\u001b[1;36m0.5156\u001b[0m\u001b[39m,  \u001b[0m\u001b[1;36m0.2781\u001b[0m\u001b[39m, \u001b[0m\u001b[1;36m-0.0049\u001b[0m\u001b[39m, \u001b[0m\u001b[1;36m-0.1304\u001b[0m\u001b[39m,\u001b[0m\n",
       "\u001b[39m          \u001b[0m\u001b[1;36m0.8909\u001b[0m\u001b[39m,  \u001b[0m\u001b[1;36m0.1635\u001b[0m\u001b[39m, \u001b[0m\u001b[1;36m-0.4756\u001b[0m\u001b[39m, \u001b[0m\u001b[1;36m-0.2491\u001b[0m\u001b[39m,  \u001b[0m\u001b[1;36m0.8752\u001b[0m\u001b[39m,  \u001b[0m\u001b[1;36m0.1205\u001b[0m\u001b[39m, \u001b[0m\u001b[1;36m-0.8049\u001b[0m\u001b[39m, \u001b[0m\u001b[1;36m-0.2856\u001b[0m\u001b[39m,\u001b[0m\n",
       "\u001b[39m         \u001b[0m\u001b[1;36m-0.4913\u001b[0m\u001b[39m, \u001b[0m\u001b[1;36m-0.0057\u001b[0m\u001b[39m, \u001b[0m\u001b[1;36m-0.4557\u001b[0m\u001b[39m, \u001b[0m\u001b[1;36m-0.1846\u001b[0m\u001b[39m,  \u001b[0m\u001b[1;36m0.2141\u001b[0m\u001b[39m,  \u001b[0m\u001b[1;36m0.6460\u001b[0m\u001b[39m,  \u001b[0m\u001b[1;36m0.1252\u001b[0m\u001b[39m,  \u001b[0m\u001b[1;36m0.8256\u001b[0m\u001b[39m,\u001b[0m\n",
       "\u001b[39m          \u001b[0m\u001b[1;36m0.3538\u001b[0m\u001b[39m, \u001b[0m\u001b[1;36m-0.1681\u001b[0m\u001b[39m, \u001b[0m\u001b[1;36m-0.6544\u001b[0m\u001b[39m,  \u001b[0m\u001b[1;36m0.5164\u001b[0m\u001b[39m,  \u001b[0m\u001b[1;36m0.0588\u001b[0m\u001b[39m, \u001b[0m\u001b[1;36m-0.7666\u001b[0m\u001b[39m, \u001b[0m\u001b[1;36m-0.8680\u001b[0m\u001b[39m, \u001b[0m\u001b[1;36m-0.8960\u001b[0m\u001b[39m,\u001b[0m\n",
       "\u001b[39m          \u001b[0m\u001b[1;36m0.3629\u001b[0m\u001b[39m,  \u001b[0m\u001b[1;36m0.0128\u001b[0m\u001b[39m,  \u001b[0m\u001b[1;36m0.0147\u001b[0m\u001b[39m, \u001b[0m\u001b[1;36m-0.2081\u001b[0m\u001b[39m, \u001b[0m\u001b[1;36m-0.2045\u001b[0m\u001b[39m, \u001b[0m\u001b[1;36m-0.3918\u001b[0m\u001b[39m, \u001b[0m\u001b[1;36m-0.0870\u001b[0m\u001b[39m, \u001b[0m\u001b[1;36m-0.9109\u001b[0m\u001b[39m,\u001b[0m\n",
       "\u001b[39m          \u001b[0m\u001b[1;36m0.7157\u001b[0m\u001b[39m, \u001b[0m\u001b[1;36m-0.0498\u001b[0m\u001b[39m, \u001b[0m\u001b[1;36m-0.6831\u001b[0m\u001b[39m,  \u001b[0m\u001b[1;36m0.8863\u001b[0m\u001b[39m,  \u001b[0m\u001b[1;36m0.1077\u001b[0m\u001b[39m,  \u001b[0m\u001b[1;36m0.4189\u001b[0m\u001b[39m, \u001b[0m\u001b[1;36m-0.0767\u001b[0m\u001b[39m, \u001b[0m\u001b[1;36m-0.8827\u001b[0m\u001b[39m,\u001b[0m\n",
       "\u001b[39m         \u001b[0m\u001b[1;36m-0.4307\u001b[0m\u001b[39m,  \u001b[0m\u001b[1;36m0.0561\u001b[0m\u001b[39m, \u001b[0m\u001b[1;36m-0.0948\u001b[0m\u001b[39m,  \u001b[0m\u001b[1;36m0.6088\u001b[0m\u001b[39m, \u001b[0m\u001b[1;36m-0.0203\u001b[0m\u001b[39m,  \u001b[0m\u001b[1;36m0.5513\u001b[0m\u001b[39m, \u001b[0m\u001b[1;36m-0.3323\u001b[0m\u001b[39m,  \u001b[0m\u001b[1;36m0.0182\u001b[0m\u001b[39m,\u001b[0m\n",
       "\u001b[39m         \u001b[0m\u001b[1;36m-0.5436\u001b[0m\u001b[39m, \u001b[0m\u001b[1;36m-0.1220\u001b[0m\u001b[39m, \u001b[0m\u001b[1;36m-0.6460\u001b[0m\u001b[39m, \u001b[0m\u001b[1;36m-0.8805\u001b[0m\u001b[39m,  \u001b[0m\u001b[1;36m0.0674\u001b[0m\u001b[39m,  \u001b[0m\u001b[1;36m0.7879\u001b[0m\u001b[39m,  \u001b[0m\u001b[1;36m0.1469\u001b[0m\u001b[39m,  \u001b[0m\u001b[1;36m0.8828\u001b[0m\u001b[39m,\u001b[0m\n",
       "\u001b[39m         \u001b[0m\u001b[1;36m-0.9369\u001b[0m\u001b[39m,  \u001b[0m\u001b[1;36m0.0105\u001b[0m\u001b[39m,  \u001b[0m\u001b[1;36m0.7742\u001b[0m\u001b[39m, \u001b[0m\u001b[1;36m-0.4926\u001b[0m\u001b[39m, \u001b[0m\u001b[1;36m-0.2246\u001b[0m\u001b[39m,  \u001b[0m\u001b[1;36m0.0940\u001b[0m\u001b[39m, \u001b[0m\u001b[1;36m-0.1754\u001b[0m\u001b[39m, \u001b[0m\u001b[1;36m-0.3625\u001b[0m\u001b[39m,\u001b[0m\n",
       "\u001b[39m          \u001b[0m\u001b[1;36m0.6299\u001b[0m\u001b[39m,  \u001b[0m\u001b[1;36m0.6271\u001b[0m\u001b[39m, \u001b[0m\u001b[1;36m-0.0724\u001b[0m\u001b[39m,  \u001b[0m\u001b[1;36m0.8349\u001b[0m\u001b[39m,  \u001b[0m\u001b[1;36m0.6836\u001b[0m\u001b[39m, \u001b[0m\u001b[1;36m-0.2001\u001b[0m\u001b[39m,  \u001b[0m\u001b[1;36m0.3963\u001b[0m\u001b[39m,  \u001b[0m\u001b[1;36m0.1018\u001b[0m\u001b[39m,\u001b[0m\n",
       "\u001b[39m          \u001b[0m\u001b[1;36m0.8862\u001b[0m\u001b[39m, \u001b[0m\u001b[1;36m-0.5979\u001b[0m\u001b[39m, \u001b[0m\u001b[1;36m-0.0566\u001b[0m\u001b[39m,  \u001b[0m\u001b[1;36m0.6754\u001b[0m\u001b[39m,  \u001b[0m\u001b[1;36m0.2634\u001b[0m\u001b[39m, \u001b[0m\u001b[1;36m-0.0728\u001b[0m\u001b[39m,  \u001b[0m\u001b[1;36m0.0614\u001b[0m\u001b[39m,  \u001b[0m\u001b[1;36m0.3478\u001b[0m\u001b[39m,\u001b[0m\n",
       "\u001b[39m          \u001b[0m\u001b[1;36m0.7386\u001b[0m\u001b[39m,  \u001b[0m\u001b[1;36m0.0454\u001b[0m\u001b[39m,  \u001b[0m\u001b[1;36m0.5110\u001b[0m\u001b[39m, \u001b[0m\u001b[1;36m-0.1873\u001b[0m\u001b[39m,  \u001b[0m\u001b[1;36m0.1568\u001b[0m\u001b[39m,  \u001b[0m\u001b[1;36m0.2328\u001b[0m\u001b[39m,  \u001b[0m\u001b[1;36m0.1482\u001b[0m\u001b[39m, \u001b[0m\u001b[1;36m-0.4125\u001b[0m\u001b[39m,\u001b[0m\n",
       "\u001b[39m         \u001b[0m\u001b[1;36m-0.3270\u001b[0m\u001b[39m,  \u001b[0m\u001b[1;36m0.1348\u001b[0m\u001b[39m,  \u001b[0m\u001b[1;36m0.1228\u001b[0m\u001b[39m,  \u001b[0m\u001b[1;36m0.7007\u001b[0m\u001b[39m,  \u001b[0m\u001b[1;36m0.4234\u001b[0m\u001b[39m,  \u001b[0m\u001b[1;36m0.2602\u001b[0m\u001b[39m, \u001b[0m\u001b[1;36m-0.0762\u001b[0m\u001b[39m,  \u001b[0m\u001b[1;36m0.2395\u001b[0m\u001b[39m,\u001b[0m\n",
       "\u001b[39m          \u001b[0m\u001b[1;36m0.8351\u001b[0m\u001b[39m, \u001b[0m\u001b[1;36m-0.7566\u001b[0m\u001b[39m,  \u001b[0m\u001b[1;36m0.0337\u001b[0m\u001b[39m,  \u001b[0m\u001b[1;36m0.2358\u001b[0m\u001b[39m,  \u001b[0m\u001b[1;36m0.8478\u001b[0m\u001b[39m,  \u001b[0m\u001b[1;36m0.4793\u001b[0m\u001b[39m, \u001b[0m\u001b[1;36m-0.1696\u001b[0m\u001b[39m,  \u001b[0m\u001b[1;36m0.9467\u001b[0m\u001b[39m,\u001b[0m\n",
       "\u001b[39m         \u001b[0m\u001b[1;36m-0.6459\u001b[0m\u001b[39m,  \u001b[0m\u001b[1;36m0.2040\u001b[0m\u001b[39m,  \u001b[0m\u001b[1;36m0.2547\u001b[0m\u001b[39m,  \u001b[0m\u001b[1;36m0.0815\u001b[0m\u001b[39m,  \u001b[0m\u001b[1;36m0.2355\u001b[0m\u001b[39m, \u001b[0m\u001b[1;36m-0.6126\u001b[0m\u001b[39m,  \u001b[0m\u001b[1;36m0.0230\u001b[0m\u001b[39m, \u001b[0m\u001b[1;36m-0.3878\u001b[0m\u001b[39m,\u001b[0m\n",
       "\u001b[39m          \u001b[0m\u001b[1;36m0.2671\u001b[0m\u001b[39m,  \u001b[0m\u001b[1;36m0.1272\u001b[0m\u001b[39m,  \u001b[0m\u001b[1;36m0.9333\u001b[0m\u001b[39m,  \u001b[0m\u001b[1;36m0.5152\u001b[0m\u001b[39m,  \u001b[0m\u001b[1;36m0.8326\u001b[0m\u001b[39m, \u001b[0m\u001b[1;36m-0.6891\u001b[0m\u001b[39m, \u001b[0m\u001b[1;36m-0.0018\u001b[0m\u001b[39m, \u001b[0m\u001b[1;36m-0.0572\u001b[0m\u001b[39m,\u001b[0m\n",
       "\u001b[39m         \u001b[0m\u001b[1;36m-0.6112\u001b[0m\u001b[39m, \u001b[0m\u001b[1;36m-0.9634\u001b[0m\u001b[39m, \u001b[0m\u001b[1;36m-0.1394\u001b[0m\u001b[39m,  \u001b[0m\u001b[1;36m0.1798\u001b[0m\u001b[39m, \u001b[0m\u001b[1;36m-0.6230\u001b[0m\u001b[39m, \u001b[0m\u001b[1;36m-0.2060\u001b[0m\u001b[39m,  \u001b[0m\u001b[1;36m0.0346\u001b[0m\u001b[39m,  \u001b[0m\u001b[1;36m0.0013\u001b[0m\u001b[39m,\u001b[0m\n",
       "\u001b[39m         \u001b[0m\u001b[1;36m-0.5686\u001b[0m\u001b[39m, \u001b[0m\u001b[1;36m-0.1738\u001b[0m\u001b[39m,  \u001b[0m\u001b[1;36m0.5555\u001b[0m\u001b[39m,  \u001b[0m\u001b[1;36m0.4152\u001b[0m\u001b[39m,  \u001b[0m\u001b[1;36m0.0531\u001b[0m\u001b[39m, \u001b[0m\u001b[1;36m-0.1435\u001b[0m\u001b[39m, \u001b[0m\u001b[1;36m-0.0086\u001b[0m\u001b[39m,  \u001b[0m\u001b[1;36m0.6116\u001b[0m\u001b[39m,\u001b[0m\n",
       "\u001b[39m          \u001b[0m\u001b[1;36m0.4560\u001b[0m\u001b[39m,  \u001b[0m\u001b[1;36m0.5797\u001b[0m\u001b[39m, \u001b[0m\u001b[1;36m-0.3109\u001b[0m\u001b[39m,  \u001b[0m\u001b[1;36m0.7306\u001b[0m\u001b[39m, \u001b[0m\u001b[1;36m-0.0427\u001b[0m\u001b[39m, \u001b[0m\u001b[1;36m-0.5209\u001b[0m\u001b[39m, \u001b[0m\u001b[1;36m-0.2954\u001b[0m\u001b[39m,  \u001b[0m\u001b[1;36m0.5074\u001b[0m\u001b[1;39m]\u001b[0m\u001b[1;39m]\u001b[0m\u001b[39m,\u001b[0m\n",
       "\u001b[39m       \u001b[0m\u001b[33mgrad_fn\u001b[0m\u001b[39m=<TanhBackward0\u001b[0m\u001b[1m>\u001b[0m\u001b[1m)\u001b[0m,\n",
       "    \u001b[33mhidden_states\u001b[0m=\u001b[3;35mNone\u001b[0m,\n",
       "    \u001b[33mpast_key_values\u001b[0m=\u001b[3;35mNone\u001b[0m,\n",
       "    \u001b[33mattentions\u001b[0m=\u001b[3;35mNone\u001b[0m,\n",
       "    \u001b[33mcross_attentions\u001b[0m=\u001b[3;35mNone\u001b[0m\n",
       "\u001b[1m)\u001b[0m"
      ]
     },
     "execution_count": 13,
     "metadata": {},
     "output_type": "execute_result"
    }
   ],
   "source": [
    "bert_model(torch.tensor([[1, 2, 3]]))"
   ]
  }
 ],
 "metadata": {
  "kernelspec": {
   "display_name": "Python 3",
   "language": "python",
   "name": "python3"
  },
  "language_info": {
   "codemirror_mode": {
    "name": "ipython",
    "version": 3
   },
   "file_extension": ".py",
   "mimetype": "text/x-python",
   "name": "python",
   "nbconvert_exporter": "python",
   "pygments_lexer": "ipython3",
   "version": "3.11.6"
  }
 },
 "nbformat": 4,
 "nbformat_minor": 2
}
